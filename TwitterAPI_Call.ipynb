{
  "nbformat": 4,
  "nbformat_minor": 0,
  "metadata": {
    "colab": {
      "name": "TwitterAPI_Call.ipynb",
      "provenance": [],
      "collapsed_sections": []
    },
    "kernelspec": {
      "name": "python3",
      "display_name": "Python 3"
    },
    "language_info": {
      "name": "python"
    }
  },
  "cells": [
    {
      "cell_type": "code",
      "metadata": {
        "id": "uEffC-sVydMH"
      },
      "source": [
        "import tweepy"
      ],
      "execution_count": null,
      "outputs": []
    },
    {
      "cell_type": "code",
      "metadata": {
        "id": "RXSyaTjHz2I9"
      },
      "source": [
        "import pandas as pd"
      ],
      "execution_count": null,
      "outputs": []
    },
    {
      "cell_type": "code",
      "metadata": {
        "id": "oy7pjcae0A1P"
      },
      "source": [
        "consumer_key = \"bjGl2iWh1CynCa0VesNrBtMqx\"\n",
        "consumer_secret = \"IOVEPXCRmlGizJ5LVxnUr2xzhhqHl5lG1tJHOqlPGsCrfgyqko\"\n",
        "access_token = \"1396401069488435201-qigDyzcpLvgOCpdn75HPnduntymGL8\"\n",
        "access_secret = \"KAC8iLxAzronpL7PNPa4iFDl0PT6U5NbujQ7OYSNAtH7A\""
      ],
      "execution_count": null,
      "outputs": []
    },
    {
      "cell_type": "code",
      "metadata": {
        "id": "53sGKv2N0T5I"
      },
      "source": [
        "auth = tweepy.OAuthHandler(consumer_key, consumer_secret)\n",
        "auth.set_access_token(access_token, access_secret)\n",
        "api = tweepy.API(auth, wait_on_rate_limit=True)"
      ],
      "execution_count": null,
      "outputs": []
    },
    {
      "cell_type": "code",
      "metadata": {
        "id": "mk2z3oA900FV"
      },
      "source": [
        "search = \"#msdhoni\"\n",
        "date_since = \"2021-11-14\""
      ],
      "execution_count": null,
      "outputs": []
    },
    {
      "cell_type": "code",
      "metadata": {
        "id": "FtD3NgiR1EAh"
      },
      "source": [
        "tweets = tweepy.Cursor(api.search, q=search, since=date_since).items(5)"
      ],
      "execution_count": null,
      "outputs": []
    },
    {
      "cell_type": "code",
      "metadata": {
        "colab": {
          "base_uri": "https://localhost:8080/"
        },
        "id": "2VTj2e_I1TxJ",
        "outputId": "9c9176c4-ca0b-4573-bdf4-2e9b0dcd87c0"
      },
      "source": [
        "for tw in tweets:\n",
        "  print(tw.text)"
      ],
      "execution_count": null,
      "outputs": [
        {
          "output_type": "stream",
          "name": "stdout",
          "text": [
            "RT @Suraj0167: My Rockstars❤️🤗\n",
            "\n",
            "@KicchaSudeep @msdhoni💜\n",
            "\n",
            "#KicchaSudeep #Dhoni #MSDhoni #VikrantRona https://t.co/FfLNh9k7DW\n",
            "RT @msdhonizealot: Handsome at 40😍🥰\n",
            "\n",
            "#MSDhoni • #Dhoni • @msdhoni https://t.co/3Q9W9lBN0M\n",
            "RT @DHONIism: Dhoni playing Tennis in Ranchi 🎾❤️\n",
            "\n",
            "@MSDhoni • #MSDhoni • #WhistlePodu https://t.co/pbsEtbCLu8\n",
            "RT @Mr___Invisible: Dear Haters,Do You Know What Is The Greatest Achievement Of Dhoni?? 😎\n",
            "\n",
            "\"When India Was Struggling After Having Scored A…\n",
            "RT @TheDhoniEra: 19th : Ranchi - IND vs NZ\n",
            "20th : Chennai - CSK Celebration\n",
            "\n",
            "@MSDhoni • #MSDhoni • #WhistlePodu https://t.co/XLDAQUT8r9\n"
          ]
        }
      ]
    },
    {
      "cell_type": "code",
      "metadata": {
        "id": "eQeBM1Oy2zn5"
      },
      "source": [
        "public_tweets = api.home_timeline()\n",
        "for tweet in public_tweets:\n",
        "    print(tweet.text)"
      ],
      "execution_count": null,
      "outputs": []
    },
    {
      "cell_type": "code",
      "metadata": {
        "id": "b_WDauJ94jXO"
      },
      "source": [
        ""
      ],
      "execution_count": null,
      "outputs": []
    }
  ]
}