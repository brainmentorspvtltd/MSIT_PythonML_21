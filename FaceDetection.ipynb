{
 "cells": [
  {
   "cell_type": "code",
   "execution_count": 1,
   "id": "35028574",
   "metadata": {},
   "outputs": [],
   "source": [
    "import cv2"
   ]
  },
  {
   "cell_type": "code",
   "execution_count": 2,
   "id": "cb98c570",
   "metadata": {},
   "outputs": [],
   "source": [
    "haar = cv2.CascadeClassifier('haarcascade_frontalface_default.xml')"
   ]
  },
  {
   "cell_type": "code",
   "execution_count": 3,
   "id": "261c020c",
   "metadata": {},
   "outputs": [],
   "source": [
    "img = cv2.imread('img_2.jpg')"
   ]
  },
  {
   "cell_type": "code",
   "execution_count": 10,
   "id": "419f18a1",
   "metadata": {},
   "outputs": [
    {
     "data": {
      "text/plain": [
       "array([[ 303,  110,   61,   61],\n",
       "       [ 944,   54,   70,   70],\n",
       "       [ 144,   72,   73,   73],\n",
       "       [1059,   79,   78,   78],\n",
       "       [ 704,  397,  190,  190],\n",
       "       [ 560,   92,   70,   70]], dtype=int32)"
      ]
     },
     "execution_count": 10,
     "metadata": {},
     "output_type": "execute_result"
    }
   ],
   "source": [
    "img = cv2.imread('img_2.jpg')\n",
    "haar.detectMultiScale(img, 1.30)"
   ]
  },
  {
   "cell_type": "code",
   "execution_count": 11,
   "id": "16e0743b",
   "metadata": {},
   "outputs": [
    {
     "data": {
      "text/plain": [
       "-1"
      ]
     },
     "execution_count": 11,
     "metadata": {},
     "output_type": "execute_result"
    }
   ],
   "source": [
    "img = cv2.imread('img_2.jpg')\n",
    "faces = haar.detectMultiScale(img, 1.35)\n",
    "for x,y,w,h in faces:\n",
    "    cv2.rectangle(img, (x,y), (x+w,y+h), (230,220,120),5)\n",
    "\n",
    "cv2.imshow('result',img)\n",
    "cv2.waitKey(0)"
   ]
  },
  {
   "cell_type": "code",
   "execution_count": 13,
   "id": "445e9a81",
   "metadata": {},
   "outputs": [],
   "source": [
    "# capture = cv2.VideoCapture('video_1.mp4')\n",
    "capture = cv2.VideoCapture(0)\n",
    "\n",
    "while True:\n",
    "    flag, img = capture.read()\n",
    "    faces = haar.detectMultiScale(img, 1.35)\n",
    "    for x,y,w,h in faces:\n",
    "        cv2.rectangle(img, (x,y), (x+w,y+h), (230,220,120),5)\n",
    "    cv2.imshow('result',img)\n",
    "    # escape - 27\n",
    "    if cv2.waitKey(1) == 27:\n",
    "        break\n",
    "    \n",
    "cv2.destroyAllWindows()\n",
    "capture.release()"
   ]
  },
  {
   "cell_type": "code",
   "execution_count": null,
   "id": "77ac35c6",
   "metadata": {},
   "outputs": [],
   "source": []
  }
 ],
 "metadata": {
  "kernelspec": {
   "display_name": "Python 3",
   "language": "python",
   "name": "python3"
  },
  "language_info": {
   "codemirror_mode": {
    "name": "ipython",
    "version": 3
   },
   "file_extension": ".py",
   "mimetype": "text/x-python",
   "name": "python",
   "nbconvert_exporter": "python",
   "pygments_lexer": "ipython3",
   "version": "3.8.8"
  }
 },
 "nbformat": 4,
 "nbformat_minor": 5
}
