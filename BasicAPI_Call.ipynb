{
  "nbformat": 4,
  "nbformat_minor": 0,
  "metadata": {
    "colab": {
      "name": "BasicAPI_Call.ipynb",
      "provenance": []
    },
    "kernelspec": {
      "display_name": "Python 3",
      "name": "python3"
    },
    "language_info": {
      "name": "python"
    }
  },
  "cells": [
    {
      "cell_type": "code",
      "metadata": {
        "id": "AckpucAtsNqs"
      },
      "source": [
        "import json\n",
        "import urllib.request as url"
      ],
      "execution_count": null,
      "outputs": []
    },
    {
      "cell_type": "code",
      "metadata": {
        "id": "sOA4Q3MnvHTG"
      },
      "source": [
        "path = \"https://data.covid19india.org/states_daily.json\"\n",
        "response = url.urlopen(path)"
      ],
      "execution_count": null,
      "outputs": []
    },
    {
      "cell_type": "code",
      "metadata": {
        "id": "ZiLGhRdKvNbV"
      },
      "source": [
        "data = json.load(response)"
      ],
      "execution_count": null,
      "outputs": []
    },
    {
      "cell_type": "code",
      "metadata": {
        "colab": {
          "base_uri": "https://localhost:8080/"
        },
        "id": "nipfCOAgvYmG",
        "outputId": "1cb0ceb8-bf7f-4dfd-8d68-acbd93b1c628"
      },
      "source": [
        "type(data)"
      ],
      "execution_count": null,
      "outputs": [
        {
          "output_type": "execute_result",
          "data": {
            "text/plain": [
              "dict"
            ]
          },
          "metadata": {},
          "execution_count": 11
        }
      ]
    },
    {
      "cell_type": "code",
      "metadata": {
        "colab": {
          "base_uri": "https://localhost:8080/"
        },
        "id": "QLFoWTsUvfj-",
        "outputId": "c7aebf0f-5b05-4c85-b4a9-a1cd988078fc"
      },
      "source": [
        "data.keys()"
      ],
      "execution_count": null,
      "outputs": [
        {
          "output_type": "execute_result",
          "data": {
            "text/plain": [
              "dict_keys(['states_daily'])"
            ]
          },
          "metadata": {},
          "execution_count": 12
        }
      ]
    },
    {
      "cell_type": "code",
      "metadata": {
        "id": "Rs3Lp7oNvkpP"
      },
      "source": [
        "states = data[\"states_daily\"]"
      ],
      "execution_count": null,
      "outputs": []
    },
    {
      "cell_type": "code",
      "metadata": {
        "colab": {
          "base_uri": "https://localhost:8080/"
        },
        "id": "Vy3BZ6jRvo38",
        "outputId": "52b50597-a584-40e0-82fb-20c79d73f8f1"
      },
      "source": [
        "len(states)"
      ],
      "execution_count": null,
      "outputs": [
        {
          "output_type": "execute_result",
          "data": {
            "text/plain": [
              "1563"
            ]
          },
          "metadata": {},
          "execution_count": 14
        }
      ]
    },
    {
      "cell_type": "code",
      "metadata": {
        "colab": {
          "base_uri": "https://localhost:8080/"
        },
        "id": "XPraOvCXwH_s",
        "outputId": "54f04d88-4e3f-4907-ec72-509b3e4820ea"
      },
      "source": [
        "len(states) / 3"
      ],
      "execution_count": null,
      "outputs": [
        {
          "output_type": "execute_result",
          "data": {
            "text/plain": [
              "521.0"
            ]
          },
          "metadata": {},
          "execution_count": 15
        }
      ]
    },
    {
      "cell_type": "code",
      "metadata": {
        "colab": {
          "base_uri": "https://localhost:8080/"
        },
        "id": "Tm3F-N38wLso",
        "outputId": "c91ff611-f166-4148-818f-a8d0f608578b"
      },
      "source": [
        "print(states[0])"
      ],
      "execution_count": null,
      "outputs": [
        {
          "output_type": "stream",
          "name": "stdout",
          "text": [
            "{'an': '0', 'ap': '1', 'ar': '0', 'as': '0', 'br': '0', 'ch': '0', 'ct': '0', 'date': '14-Mar-20', 'dateymd': '2020-03-14', 'dd': '0', 'dl': '7', 'dn': '0', 'ga': '0', 'gj': '0', 'hp': '0', 'hr': '14', 'jh': '0', 'jk': '2', 'ka': '6', 'kl': '19', 'la': '0', 'ld': '0', 'mh': '14', 'ml': '0', 'mn': '0', 'mp': '0', 'mz': '0', 'nl': '0', 'or': '0', 'pb': '1', 'py': '0', 'rj': '3', 'sk': '0', 'status': 'Confirmed', 'tg': '1', 'tn': '1', 'tr': '0', 'tt': '81', 'un': '0', 'up': '12', 'ut': '0', 'wb': '0'}\n"
          ]
        }
      ]
    },
    {
      "cell_type": "code",
      "metadata": {
        "colab": {
          "base_uri": "https://localhost:8080/"
        },
        "id": "-oOGUoCiwPzy",
        "outputId": "dcc8729f-2ec2-47cb-ed90-d14cc8c1ab88"
      },
      "source": [
        "print(states[-1])"
      ],
      "execution_count": null,
      "outputs": [
        {
          "output_type": "stream",
          "name": "stdout",
          "text": [
            "{'an': '0', 'ap': '13', 'ar': '0', 'as': '10', 'br': '0', 'ch': '0', 'ct': '1', 'date': '16-Aug-21', 'dateymd': '2021-08-16', 'dd': '0', 'dl': '0', 'dn': '0', 'ga': '5', 'gj': '0', 'hp': '3', 'hr': '2', 'jh': '0', 'jk': '1', 'ka': '28', 'kl': '142', 'la': '0', 'ld': '0', 'mh': '100', 'ml': '8', 'mn': '6', 'mp': '1', 'mz': '3', 'nl': '4', 'or': '66', 'pb': '2', 'py': '0', 'rj': '0', 'sk': '0', 'status': 'Deceased', 'tg': '3', 'tn': '28', 'tr': '1', 'tt': '438', 'un': '0', 'up': '1', 'ut': '1', 'wb': '9'}\n"
          ]
        }
      ]
    },
    {
      "cell_type": "code",
      "metadata": {
        "id": "ZEZow8DIwTre"
      },
      "source": [
        "import pandas as pd"
      ],
      "execution_count": null,
      "outputs": []
    },
    {
      "cell_type": "code",
      "metadata": {
        "id": "f5JUqXN1waf_"
      },
      "source": [
        "df = pd.DataFrame(states)"
      ],
      "execution_count": null,
      "outputs": []
    },
    {
      "cell_type": "code",
      "metadata": {
        "colab": {
          "base_uri": "https://localhost:8080/",
          "height": 287
        },
        "id": "LPAEhz4EwdZl",
        "outputId": "a55d0d4c-7699-40f0-b220-144b140aba02"
      },
      "source": [
        "df.head()"
      ],
      "execution_count": null,
      "outputs": [
        {
          "output_type": "execute_result",
          "data": {
            "text/html": [
              "<div>\n",
              "<style scoped>\n",
              "    .dataframe tbody tr th:only-of-type {\n",
              "        vertical-align: middle;\n",
              "    }\n",
              "\n",
              "    .dataframe tbody tr th {\n",
              "        vertical-align: top;\n",
              "    }\n",
              "\n",
              "    .dataframe thead th {\n",
              "        text-align: right;\n",
              "    }\n",
              "</style>\n",
              "<table border=\"1\" class=\"dataframe\">\n",
              "  <thead>\n",
              "    <tr style=\"text-align: right;\">\n",
              "      <th></th>\n",
              "      <th>an</th>\n",
              "      <th>ap</th>\n",
              "      <th>ar</th>\n",
              "      <th>as</th>\n",
              "      <th>br</th>\n",
              "      <th>ch</th>\n",
              "      <th>ct</th>\n",
              "      <th>date</th>\n",
              "      <th>dateymd</th>\n",
              "      <th>dd</th>\n",
              "      <th>dl</th>\n",
              "      <th>dn</th>\n",
              "      <th>ga</th>\n",
              "      <th>gj</th>\n",
              "      <th>hp</th>\n",
              "      <th>hr</th>\n",
              "      <th>jh</th>\n",
              "      <th>jk</th>\n",
              "      <th>ka</th>\n",
              "      <th>kl</th>\n",
              "      <th>la</th>\n",
              "      <th>ld</th>\n",
              "      <th>mh</th>\n",
              "      <th>ml</th>\n",
              "      <th>mn</th>\n",
              "      <th>mp</th>\n",
              "      <th>mz</th>\n",
              "      <th>nl</th>\n",
              "      <th>or</th>\n",
              "      <th>pb</th>\n",
              "      <th>py</th>\n",
              "      <th>rj</th>\n",
              "      <th>sk</th>\n",
              "      <th>status</th>\n",
              "      <th>tg</th>\n",
              "      <th>tn</th>\n",
              "      <th>tr</th>\n",
              "      <th>tt</th>\n",
              "      <th>un</th>\n",
              "      <th>up</th>\n",
              "      <th>ut</th>\n",
              "      <th>wb</th>\n",
              "    </tr>\n",
              "  </thead>\n",
              "  <tbody>\n",
              "    <tr>\n",
              "      <th>0</th>\n",
              "      <td>0</td>\n",
              "      <td>1</td>\n",
              "      <td>0</td>\n",
              "      <td>0</td>\n",
              "      <td>0</td>\n",
              "      <td>0</td>\n",
              "      <td>0</td>\n",
              "      <td>14-Mar-20</td>\n",
              "      <td>2020-03-14</td>\n",
              "      <td>0</td>\n",
              "      <td>7</td>\n",
              "      <td>0</td>\n",
              "      <td>0</td>\n",
              "      <td>0</td>\n",
              "      <td>0</td>\n",
              "      <td>14</td>\n",
              "      <td>0</td>\n",
              "      <td>2</td>\n",
              "      <td>6</td>\n",
              "      <td>19</td>\n",
              "      <td>0</td>\n",
              "      <td>0</td>\n",
              "      <td>14</td>\n",
              "      <td>0</td>\n",
              "      <td>0</td>\n",
              "      <td>0</td>\n",
              "      <td>0</td>\n",
              "      <td>0</td>\n",
              "      <td>0</td>\n",
              "      <td>1</td>\n",
              "      <td>0</td>\n",
              "      <td>3</td>\n",
              "      <td>0</td>\n",
              "      <td>Confirmed</td>\n",
              "      <td>1</td>\n",
              "      <td>1</td>\n",
              "      <td>0</td>\n",
              "      <td>81</td>\n",
              "      <td>0</td>\n",
              "      <td>12</td>\n",
              "      <td>0</td>\n",
              "      <td>0</td>\n",
              "    </tr>\n",
              "    <tr>\n",
              "      <th>1</th>\n",
              "      <td>0</td>\n",
              "      <td>0</td>\n",
              "      <td>0</td>\n",
              "      <td>0</td>\n",
              "      <td>0</td>\n",
              "      <td>0</td>\n",
              "      <td>0</td>\n",
              "      <td>14-Mar-20</td>\n",
              "      <td>2020-03-14</td>\n",
              "      <td>0</td>\n",
              "      <td>1</td>\n",
              "      <td>0</td>\n",
              "      <td>0</td>\n",
              "      <td>0</td>\n",
              "      <td>0</td>\n",
              "      <td>0</td>\n",
              "      <td>0</td>\n",
              "      <td>0</td>\n",
              "      <td>0</td>\n",
              "      <td>3</td>\n",
              "      <td>0</td>\n",
              "      <td>0</td>\n",
              "      <td>0</td>\n",
              "      <td>0</td>\n",
              "      <td>0</td>\n",
              "      <td>0</td>\n",
              "      <td>0</td>\n",
              "      <td>0</td>\n",
              "      <td>0</td>\n",
              "      <td>0</td>\n",
              "      <td>0</td>\n",
              "      <td>1</td>\n",
              "      <td>0</td>\n",
              "      <td>Recovered</td>\n",
              "      <td>0</td>\n",
              "      <td>0</td>\n",
              "      <td>0</td>\n",
              "      <td>9</td>\n",
              "      <td>0</td>\n",
              "      <td>4</td>\n",
              "      <td>0</td>\n",
              "      <td>0</td>\n",
              "    </tr>\n",
              "    <tr>\n",
              "      <th>2</th>\n",
              "      <td>0</td>\n",
              "      <td>0</td>\n",
              "      <td>0</td>\n",
              "      <td>0</td>\n",
              "      <td>0</td>\n",
              "      <td>0</td>\n",
              "      <td>0</td>\n",
              "      <td>14-Mar-20</td>\n",
              "      <td>2020-03-14</td>\n",
              "      <td>0</td>\n",
              "      <td>1</td>\n",
              "      <td>0</td>\n",
              "      <td>0</td>\n",
              "      <td>0</td>\n",
              "      <td>0</td>\n",
              "      <td>0</td>\n",
              "      <td>0</td>\n",
              "      <td>0</td>\n",
              "      <td>1</td>\n",
              "      <td>0</td>\n",
              "      <td>0</td>\n",
              "      <td>0</td>\n",
              "      <td>0</td>\n",
              "      <td>0</td>\n",
              "      <td>0</td>\n",
              "      <td>0</td>\n",
              "      <td>0</td>\n",
              "      <td>0</td>\n",
              "      <td>0</td>\n",
              "      <td>0</td>\n",
              "      <td>0</td>\n",
              "      <td>0</td>\n",
              "      <td>0</td>\n",
              "      <td>Deceased</td>\n",
              "      <td>0</td>\n",
              "      <td>0</td>\n",
              "      <td>0</td>\n",
              "      <td>2</td>\n",
              "      <td>0</td>\n",
              "      <td>0</td>\n",
              "      <td>0</td>\n",
              "      <td>0</td>\n",
              "    </tr>\n",
              "    <tr>\n",
              "      <th>3</th>\n",
              "      <td>0</td>\n",
              "      <td>0</td>\n",
              "      <td>0</td>\n",
              "      <td>0</td>\n",
              "      <td>0</td>\n",
              "      <td>0</td>\n",
              "      <td>0</td>\n",
              "      <td>15-Mar-20</td>\n",
              "      <td>2020-03-15</td>\n",
              "      <td>0</td>\n",
              "      <td>0</td>\n",
              "      <td>0</td>\n",
              "      <td>0</td>\n",
              "      <td>0</td>\n",
              "      <td>0</td>\n",
              "      <td>0</td>\n",
              "      <td>0</td>\n",
              "      <td>0</td>\n",
              "      <td>0</td>\n",
              "      <td>5</td>\n",
              "      <td>0</td>\n",
              "      <td>0</td>\n",
              "      <td>18</td>\n",
              "      <td>0</td>\n",
              "      <td>0</td>\n",
              "      <td>0</td>\n",
              "      <td>0</td>\n",
              "      <td>0</td>\n",
              "      <td>0</td>\n",
              "      <td>0</td>\n",
              "      <td>0</td>\n",
              "      <td>1</td>\n",
              "      <td>0</td>\n",
              "      <td>Confirmed</td>\n",
              "      <td>2</td>\n",
              "      <td>0</td>\n",
              "      <td>0</td>\n",
              "      <td>27</td>\n",
              "      <td>0</td>\n",
              "      <td>1</td>\n",
              "      <td>0</td>\n",
              "      <td>0</td>\n",
              "    </tr>\n",
              "    <tr>\n",
              "      <th>4</th>\n",
              "      <td>0</td>\n",
              "      <td>0</td>\n",
              "      <td>0</td>\n",
              "      <td>0</td>\n",
              "      <td>0</td>\n",
              "      <td>0</td>\n",
              "      <td>0</td>\n",
              "      <td>15-Mar-20</td>\n",
              "      <td>2020-03-15</td>\n",
              "      <td>0</td>\n",
              "      <td>1</td>\n",
              "      <td>0</td>\n",
              "      <td>0</td>\n",
              "      <td>0</td>\n",
              "      <td>0</td>\n",
              "      <td>0</td>\n",
              "      <td>0</td>\n",
              "      <td>0</td>\n",
              "      <td>0</td>\n",
              "      <td>0</td>\n",
              "      <td>0</td>\n",
              "      <td>0</td>\n",
              "      <td>0</td>\n",
              "      <td>0</td>\n",
              "      <td>0</td>\n",
              "      <td>0</td>\n",
              "      <td>0</td>\n",
              "      <td>0</td>\n",
              "      <td>0</td>\n",
              "      <td>0</td>\n",
              "      <td>0</td>\n",
              "      <td>2</td>\n",
              "      <td>0</td>\n",
              "      <td>Recovered</td>\n",
              "      <td>1</td>\n",
              "      <td>0</td>\n",
              "      <td>0</td>\n",
              "      <td>4</td>\n",
              "      <td>0</td>\n",
              "      <td>0</td>\n",
              "      <td>0</td>\n",
              "      <td>0</td>\n",
              "    </tr>\n",
              "  </tbody>\n",
              "</table>\n",
              "</div>"
            ],
            "text/plain": [
              "  an ap ar as br ch ct       date  ... tg tn tr  tt un  up ut wb\n",
              "0  0  1  0  0  0  0  0  14-Mar-20  ...  1  1  0  81  0  12  0  0\n",
              "1  0  0  0  0  0  0  0  14-Mar-20  ...  0  0  0   9  0   4  0  0\n",
              "2  0  0  0  0  0  0  0  14-Mar-20  ...  0  0  0   2  0   0  0  0\n",
              "3  0  0  0  0  0  0  0  15-Mar-20  ...  2  0  0  27  0   1  0  0\n",
              "4  0  0  0  0  0  0  0  15-Mar-20  ...  1  0  0   4  0   0  0  0\n",
              "\n",
              "[5 rows x 42 columns]"
            ]
          },
          "metadata": {},
          "execution_count": 22
        }
      ]
    },
    {
      "cell_type": "code",
      "metadata": {
        "id": "ZFpaBWNiws7T"
      },
      "source": [
        "key = \"83e01e3dce5d28839bb5a177cb51af12\"\n",
        "city_name = \"delhi\"\n",
        "path = f\"https://api.openweathermap.org/data/2.5/weather?q={city_name}&appid={key}\""
      ],
      "execution_count": null,
      "outputs": []
    },
    {
      "cell_type": "code",
      "metadata": {
        "id": "JaqlAYOQyCk8"
      },
      "source": [
        "response = url.urlopen(path)\n",
        "data = json.load(response)"
      ],
      "execution_count": null,
      "outputs": []
    },
    {
      "cell_type": "code",
      "metadata": {
        "colab": {
          "base_uri": "https://localhost:8080/"
        },
        "id": "jh_okujByGkQ",
        "outputId": "9525c4d2-0cd2-4644-d1f1-faf2442ea9f5"
      },
      "source": [
        "data"
      ],
      "execution_count": null,
      "outputs": [
        {
          "output_type": "execute_result",
          "data": {
            "text/plain": [
              "{'base': 'stations',\n",
              " 'clouds': {'all': 54},\n",
              " 'cod': 200,\n",
              " 'coord': {'lat': 28.6667, 'lon': 77.2167},\n",
              " 'dt': 1637150548,\n",
              " 'id': 1273294,\n",
              " 'main': {'feels_like': 296.47,\n",
              "  'humidity': 31,\n",
              "  'pressure': 1014,\n",
              "  'temp': 297.2,\n",
              "  'temp_max': 297.2,\n",
              "  'temp_min': 297.2},\n",
              " 'name': 'Delhi',\n",
              " 'sys': {'country': 'IN',\n",
              "  'id': 9165,\n",
              "  'sunrise': 1637111729,\n",
              "  'sunset': 1637150216,\n",
              "  'type': 1},\n",
              " 'timezone': 19800,\n",
              " 'visibility': 2100,\n",
              " 'weather': [{'description': 'smoke',\n",
              "   'icon': '50n',\n",
              "   'id': 711,\n",
              "   'main': 'Smoke'}],\n",
              " 'wind': {'deg': 40, 'speed': 2.57}}"
            ]
          },
          "metadata": {},
          "execution_count": 25
        }
      ]
    },
    {
      "cell_type": "code",
      "metadata": {
        "id": "a4TkdhsUyH3b"
      },
      "source": [
        ""
      ],
      "execution_count": null,
      "outputs": []
    }
  ]
}