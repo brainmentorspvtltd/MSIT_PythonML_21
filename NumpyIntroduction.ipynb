{
  "nbformat": 4,
  "nbformat_minor": 0,
  "metadata": {
    "colab": {
      "name": "NumpyIntroduction.ipynb",
      "provenance": [],
      "collapsed_sections": []
    },
    "kernelspec": {
      "name": "python3",
      "display_name": "Python 3"
    },
    "language_info": {
      "name": "python"
    }
  },
  "cells": [
    {
      "cell_type": "code",
      "metadata": {
        "id": "bKsMLWPt7nFE"
      },
      "source": [
        "import numpy as np"
      ],
      "execution_count": 1,
      "outputs": []
    },
    {
      "cell_type": "code",
      "metadata": {
        "colab": {
          "base_uri": "https://localhost:8080/"
        },
        "id": "GV-W41g27uge",
        "outputId": "9cce67bb-21d0-4468-d1f7-8ee96c913bb8"
      },
      "source": [
        "np.array([3,4,6,6,2,5,82])"
      ],
      "execution_count": 2,
      "outputs": [
        {
          "output_type": "execute_result",
          "data": {
            "text/plain": [
              "array([ 3,  4,  6,  6,  2,  5, 82])"
            ]
          },
          "metadata": {},
          "execution_count": 2
        }
      ]
    },
    {
      "cell_type": "code",
      "metadata": {
        "colab": {
          "base_uri": "https://localhost:8080/"
        },
        "id": "Qy4Ir8K771dD",
        "outputId": "10cab87e-25b5-4e36-aaa6-a2660184f6a8"
      },
      "source": [
        "np.array([3,4,67,6,3,34.3,24.4])"
      ],
      "execution_count": 3,
      "outputs": [
        {
          "output_type": "execute_result",
          "data": {
            "text/plain": [
              "array([ 3. ,  4. , 67. ,  6. ,  3. , 34.3, 24.4])"
            ]
          },
          "metadata": {},
          "execution_count": 3
        }
      ]
    },
    {
      "cell_type": "code",
      "metadata": {
        "colab": {
          "base_uri": "https://localhost:8080/"
        },
        "id": "377iBSpL7760",
        "outputId": "56a1489e-dd78-4781-bc14-94d11293e7c7"
      },
      "source": [
        "np.arange(1,11)"
      ],
      "execution_count": 4,
      "outputs": [
        {
          "output_type": "execute_result",
          "data": {
            "text/plain": [
              "array([ 1,  2,  3,  4,  5,  6,  7,  8,  9, 10])"
            ]
          },
          "metadata": {},
          "execution_count": 4
        }
      ]
    },
    {
      "cell_type": "code",
      "metadata": {
        "colab": {
          "base_uri": "https://localhost:8080/"
        },
        "id": "gvWX4NbZ8Oad",
        "outputId": "aa5adb81-1009-4881-fe63-5fc033c3fbd9"
      },
      "source": [
        "np.arange(2,21,2)"
      ],
      "execution_count": 10,
      "outputs": [
        {
          "output_type": "execute_result",
          "data": {
            "text/plain": [
              "array([ 2,  4,  6,  8, 10, 12, 14, 16, 18, 20])"
            ]
          },
          "metadata": {},
          "execution_count": 10
        }
      ]
    },
    {
      "cell_type": "code",
      "metadata": {
        "colab": {
          "base_uri": "https://localhost:8080/"
        },
        "id": "z6rW3N8m8Qnr",
        "outputId": "332cf504-a4e7-4dbc-d7cc-5fcf252a5b2f"
      },
      "source": [
        "np.linspace(2,25,15, retstep=True)"
      ],
      "execution_count": 12,
      "outputs": [
        {
          "output_type": "execute_result",
          "data": {
            "text/plain": [
              "(array([ 2.        ,  3.64285714,  5.28571429,  6.92857143,  8.57142857,\n",
              "        10.21428571, 11.85714286, 13.5       , 15.14285714, 16.78571429,\n",
              "        18.42857143, 20.07142857, 21.71428571, 23.35714286, 25.        ]),\n",
              " 1.6428571428571428)"
            ]
          },
          "metadata": {},
          "execution_count": 12
        }
      ]
    },
    {
      "cell_type": "code",
      "metadata": {
        "colab": {
          "base_uri": "https://localhost:8080/"
        },
        "id": "Wqm3IoaB8pRb",
        "outputId": "d89f84be-1a95-4dd6-d69c-3a65277ad652"
      },
      "source": [
        "np.zeros(5)"
      ],
      "execution_count": 13,
      "outputs": [
        {
          "output_type": "execute_result",
          "data": {
            "text/plain": [
              "array([0., 0., 0., 0., 0.])"
            ]
          },
          "metadata": {},
          "execution_count": 13
        }
      ]
    },
    {
      "cell_type": "code",
      "metadata": {
        "colab": {
          "base_uri": "https://localhost:8080/"
        },
        "id": "ZKcnXHfD9WNQ",
        "outputId": "72bf1ef7-a7c9-45ae-eaef-13c7f834f6b1"
      },
      "source": [
        "np.zeros([5,5])"
      ],
      "execution_count": 14,
      "outputs": [
        {
          "output_type": "execute_result",
          "data": {
            "text/plain": [
              "array([[0., 0., 0., 0., 0.],\n",
              "       [0., 0., 0., 0., 0.],\n",
              "       [0., 0., 0., 0., 0.],\n",
              "       [0., 0., 0., 0., 0.],\n",
              "       [0., 0., 0., 0., 0.]])"
            ]
          },
          "metadata": {},
          "execution_count": 14
        }
      ]
    },
    {
      "cell_type": "code",
      "metadata": {
        "colab": {
          "base_uri": "https://localhost:8080/"
        },
        "id": "jQM0kNJJ9YZz",
        "outputId": "ad3a1fa0-8ed4-4d33-9be9-f54412894d9d"
      },
      "source": [
        "np.ones(5, dtype=np.int)"
      ],
      "execution_count": 17,
      "outputs": [
        {
          "output_type": "execute_result",
          "data": {
            "text/plain": [
              "array([1, 1, 1, 1, 1])"
            ]
          },
          "metadata": {},
          "execution_count": 17
        }
      ]
    },
    {
      "cell_type": "code",
      "metadata": {
        "colab": {
          "base_uri": "https://localhost:8080/"
        },
        "id": "KXnByGcN9cli",
        "outputId": "46ebe168-8175-4674-979c-62bb2b8dd1a5"
      },
      "source": [
        "np.identity(5)"
      ],
      "execution_count": 16,
      "outputs": [
        {
          "output_type": "execute_result",
          "data": {
            "text/plain": [
              "array([[1., 0., 0., 0., 0.],\n",
              "       [0., 1., 0., 0., 0.],\n",
              "       [0., 0., 1., 0., 0.],\n",
              "       [0., 0., 0., 1., 0.],\n",
              "       [0., 0., 0., 0., 1.]])"
            ]
          },
          "metadata": {},
          "execution_count": 16
        }
      ]
    },
    {
      "cell_type": "code",
      "metadata": {
        "colab": {
          "base_uri": "https://localhost:8080/"
        },
        "id": "WuIqX8cX9f2Z",
        "outputId": "867f7696-6d13-48f5-e844-abdad4f7e264"
      },
      "source": [
        "np.random.random()"
      ],
      "execution_count": 18,
      "outputs": [
        {
          "output_type": "execute_result",
          "data": {
            "text/plain": [
              "0.7553276848106384"
            ]
          },
          "metadata": {},
          "execution_count": 18
        }
      ]
    },
    {
      "cell_type": "code",
      "metadata": {
        "colab": {
          "base_uri": "https://localhost:8080/"
        },
        "id": "h0Lpi1B-98Kp",
        "outputId": "9bc9c7a4-09cd-493d-840d-e91a53c74f60"
      },
      "source": [
        "np.random.random(5)"
      ],
      "execution_count": 19,
      "outputs": [
        {
          "output_type": "execute_result",
          "data": {
            "text/plain": [
              "array([0.253764  , 0.74516786, 0.73501029, 0.25060987, 0.27482455])"
            ]
          },
          "metadata": {},
          "execution_count": 19
        }
      ]
    },
    {
      "cell_type": "code",
      "metadata": {
        "colab": {
          "base_uri": "https://localhost:8080/"
        },
        "id": "PDUkUJI-9_J5",
        "outputId": "8d14ff27-6dce-434f-d546-eaea311194df"
      },
      "source": [
        "np.random.random([4,4])"
      ],
      "execution_count": 20,
      "outputs": [
        {
          "output_type": "execute_result",
          "data": {
            "text/plain": [
              "array([[0.9663309 , 0.23022136, 0.95551612, 0.09072288],\n",
              "       [0.69524538, 0.45373122, 0.14074437, 0.48679445],\n",
              "       [0.35955109, 0.07805452, 0.25724538, 0.0947497 ],\n",
              "       [0.14772022, 0.63066903, 0.78264893, 0.74752199]])"
            ]
          },
          "metadata": {},
          "execution_count": 20
        }
      ]
    },
    {
      "cell_type": "code",
      "metadata": {
        "colab": {
          "base_uri": "https://localhost:8080/"
        },
        "id": "ig07QNq--Dvt",
        "outputId": "7c5fa3d5-d183-4a15-c9d9-4b85846ccfc7"
      },
      "source": [
        "np.random.randint(1,100,5)"
      ],
      "execution_count": 22,
      "outputs": [
        {
          "output_type": "execute_result",
          "data": {
            "text/plain": [
              "array([64, 83, 44, 36, 25])"
            ]
          },
          "metadata": {},
          "execution_count": 22
        }
      ]
    },
    {
      "cell_type": "code",
      "metadata": {
        "colab": {
          "base_uri": "https://localhost:8080/"
        },
        "id": "CjOZz1ry-Rtr",
        "outputId": "f6d6ad36-8f5b-4d2f-eb09-fcf5d1c3c398"
      },
      "source": [
        "np.random.randint(1,100,[4,5])"
      ],
      "execution_count": 23,
      "outputs": [
        {
          "output_type": "execute_result",
          "data": {
            "text/plain": [
              "array([[22, 22, 74,  1, 44],\n",
              "       [77, 35, 34, 36, 82],\n",
              "       [49, 20, 26,  8, 85],\n",
              "       [69, 99, 75, 85, 52]])"
            ]
          },
          "metadata": {},
          "execution_count": 23
        }
      ]
    },
    {
      "cell_type": "code",
      "metadata": {
        "id": "pOdEQj_s-Ve5"
      },
      "source": [
        "x = np.random.randint(1,100,10)"
      ],
      "execution_count": 24,
      "outputs": []
    },
    {
      "cell_type": "code",
      "metadata": {
        "colab": {
          "base_uri": "https://localhost:8080/"
        },
        "id": "0IhXGMAC-ivz",
        "outputId": "24258361-d23b-4549-a902-18c3d563d8e9"
      },
      "source": [
        "x"
      ],
      "execution_count": 26,
      "outputs": [
        {
          "output_type": "execute_result",
          "data": {
            "text/plain": [
              "array([52, 33, 74, 11, 68, 34, 41,  5, 80, 35])"
            ]
          },
          "metadata": {},
          "execution_count": 26
        }
      ]
    },
    {
      "cell_type": "code",
      "metadata": {
        "colab": {
          "base_uri": "https://localhost:8080/"
        },
        "id": "NFgSUFgV-l34",
        "outputId": "44117cc6-f975-488e-c4a7-d86fa565b108"
      },
      "source": [
        "x[0]"
      ],
      "execution_count": 27,
      "outputs": [
        {
          "output_type": "execute_result",
          "data": {
            "text/plain": [
              "52"
            ]
          },
          "metadata": {},
          "execution_count": 27
        }
      ]
    },
    {
      "cell_type": "code",
      "metadata": {
        "colab": {
          "base_uri": "https://localhost:8080/"
        },
        "id": "lsbVWEaM-nEx",
        "outputId": "52244e96-7030-4110-ac6b-4c58d9097666"
      },
      "source": [
        "x[-1]"
      ],
      "execution_count": 28,
      "outputs": [
        {
          "output_type": "execute_result",
          "data": {
            "text/plain": [
              "35"
            ]
          },
          "metadata": {},
          "execution_count": 28
        }
      ]
    },
    {
      "cell_type": "code",
      "metadata": {
        "colab": {
          "base_uri": "https://localhost:8080/"
        },
        "id": "59wFco2B-oJF",
        "outputId": "b40d59c5-63bf-4a22-f2b1-a9523876eccb"
      },
      "source": [
        "x[0:5]"
      ],
      "execution_count": 29,
      "outputs": [
        {
          "output_type": "execute_result",
          "data": {
            "text/plain": [
              "array([52, 33, 74, 11, 68])"
            ]
          },
          "metadata": {},
          "execution_count": 29
        }
      ]
    },
    {
      "cell_type": "code",
      "metadata": {
        "id": "JRWeezB3-pcg"
      },
      "source": [
        "x = np.random.randint(1,100,[4,6])"
      ],
      "execution_count": 30,
      "outputs": []
    },
    {
      "cell_type": "code",
      "metadata": {
        "colab": {
          "base_uri": "https://localhost:8080/"
        },
        "id": "QGP1NIHs-tzd",
        "outputId": "efeaf954-7af3-467a-d2d8-a3946cd9e956"
      },
      "source": [
        "x"
      ],
      "execution_count": 31,
      "outputs": [
        {
          "output_type": "execute_result",
          "data": {
            "text/plain": [
              "array([[98, 50, 41, 20, 59, 40],\n",
              "       [31, 36, 68, 44, 30, 88],\n",
              "       [16, 65, 21, 74, 28, 14],\n",
              "       [11,  8, 13, 83, 98, 77]])"
            ]
          },
          "metadata": {},
          "execution_count": 31
        }
      ]
    },
    {
      "cell_type": "code",
      "metadata": {
        "colab": {
          "base_uri": "https://localhost:8080/"
        },
        "id": "5L3c39UJ-uLv",
        "outputId": "fb6f1266-d147-4fdc-cad7-4970093ba25d"
      },
      "source": [
        "x[0]"
      ],
      "execution_count": 32,
      "outputs": [
        {
          "output_type": "execute_result",
          "data": {
            "text/plain": [
              "array([98, 50, 41, 20, 59, 40])"
            ]
          },
          "metadata": {},
          "execution_count": 32
        }
      ]
    },
    {
      "cell_type": "code",
      "metadata": {
        "colab": {
          "base_uri": "https://localhost:8080/"
        },
        "id": "FAxsahmG-z59",
        "outputId": "1ea5cb68-df9d-48bd-a56e-d2ba5bffe193"
      },
      "source": [
        "x[0][0]"
      ],
      "execution_count": 33,
      "outputs": [
        {
          "output_type": "execute_result",
          "data": {
            "text/plain": [
              "98"
            ]
          },
          "metadata": {},
          "execution_count": 33
        }
      ]
    },
    {
      "cell_type": "code",
      "metadata": {
        "colab": {
          "base_uri": "https://localhost:8080/"
        },
        "id": "VkNySioL-94O",
        "outputId": "f9c15e87-6d34-4f3d-caac-0d16e33363e2"
      },
      "source": [
        "x[:, 0]"
      ],
      "execution_count": 35,
      "outputs": [
        {
          "output_type": "execute_result",
          "data": {
            "text/plain": [
              "array([98, 31, 16, 11])"
            ]
          },
          "metadata": {},
          "execution_count": 35
        }
      ]
    },
    {
      "cell_type": "code",
      "metadata": {
        "colab": {
          "base_uri": "https://localhost:8080/"
        },
        "id": "LHF3pPb2_FQ8",
        "outputId": "f3972b1c-6bf5-4f0a-fac4-935cf55583bf"
      },
      "source": [
        "x[:, 0:1]"
      ],
      "execution_count": 36,
      "outputs": [
        {
          "output_type": "execute_result",
          "data": {
            "text/plain": [
              "array([[98],\n",
              "       [31],\n",
              "       [16],\n",
              "       [11]])"
            ]
          },
          "metadata": {},
          "execution_count": 36
        }
      ]
    },
    {
      "cell_type": "code",
      "metadata": {
        "colab": {
          "base_uri": "https://localhost:8080/"
        },
        "id": "x8sKxJz7_XJ5",
        "outputId": "be0885fb-8970-4365-9fe0-f0978ca157e6"
      },
      "source": [
        "x[0,0]"
      ],
      "execution_count": 37,
      "outputs": [
        {
          "output_type": "execute_result",
          "data": {
            "text/plain": [
              "98"
            ]
          },
          "metadata": {},
          "execution_count": 37
        }
      ]
    },
    {
      "cell_type": "code",
      "metadata": {
        "colab": {
          "base_uri": "https://localhost:8080/"
        },
        "id": "AAecybvH_uRD",
        "outputId": "cd3ba055-70c1-46da-f303-c9d4f9343cf0"
      },
      "source": [
        "x[0:2, 0:2]"
      ],
      "execution_count": 38,
      "outputs": [
        {
          "output_type": "execute_result",
          "data": {
            "text/plain": [
              "array([[98, 50],\n",
              "       [31, 36]])"
            ]
          },
          "metadata": {},
          "execution_count": 38
        }
      ]
    },
    {
      "cell_type": "code",
      "metadata": {
        "colab": {
          "base_uri": "https://localhost:8080/"
        },
        "id": "NPc980fG_4vK",
        "outputId": "df3d6098-6281-4506-ac02-a51cba13801e"
      },
      "source": [
        "x"
      ],
      "execution_count": 39,
      "outputs": [
        {
          "output_type": "execute_result",
          "data": {
            "text/plain": [
              "array([[98, 50, 41, 20, 59, 40],\n",
              "       [31, 36, 68, 44, 30, 88],\n",
              "       [16, 65, 21, 74, 28, 14],\n",
              "       [11,  8, 13, 83, 98, 77]])"
            ]
          },
          "metadata": {},
          "execution_count": 39
        }
      ]
    },
    {
      "cell_type": "code",
      "metadata": {
        "colab": {
          "base_uri": "https://localhost:8080/"
        },
        "id": "Q6i8GymV_6vH",
        "outputId": "7dc0d641-cb34-4571-d3eb-955fabee40c1"
      },
      "source": [
        "x[[0,2], 0:2]"
      ],
      "execution_count": 43,
      "outputs": [
        {
          "output_type": "execute_result",
          "data": {
            "text/plain": [
              "array([[98, 50],\n",
              "       [16, 65]])"
            ]
          },
          "metadata": {},
          "execution_count": 43
        }
      ]
    },
    {
      "cell_type": "code",
      "metadata": {
        "colab": {
          "base_uri": "https://localhost:8080/"
        },
        "id": "xBUs1owQAA2g",
        "outputId": "d086fbfd-99e1-4f6d-8a62-91fd16f9a694"
      },
      "source": [
        "x[:, [0,2,4]]"
      ],
      "execution_count": 44,
      "outputs": [
        {
          "output_type": "execute_result",
          "data": {
            "text/plain": [
              "array([[98, 41, 59],\n",
              "       [31, 68, 30],\n",
              "       [16, 21, 28],\n",
              "       [11, 13, 98]])"
            ]
          },
          "metadata": {},
          "execution_count": 44
        }
      ]
    },
    {
      "cell_type": "code",
      "metadata": {
        "colab": {
          "base_uri": "https://localhost:8080/"
        },
        "id": "akpX8I3UAQNq",
        "outputId": "57c6d0cf-7b53-40e4-dd50-9a31ddffe2e0"
      },
      "source": [
        "np.shape(x)"
      ],
      "execution_count": 45,
      "outputs": [
        {
          "output_type": "execute_result",
          "data": {
            "text/plain": [
              "(4, 6)"
            ]
          },
          "metadata": {},
          "execution_count": 45
        }
      ]
    },
    {
      "cell_type": "code",
      "metadata": {
        "colab": {
          "base_uri": "https://localhost:8080/"
        },
        "id": "WTJJJ9QtAmaN",
        "outputId": "68db7972-b66e-4ba2-b8dc-f356e8867bdb"
      },
      "source": [
        "x.shape"
      ],
      "execution_count": 46,
      "outputs": [
        {
          "output_type": "execute_result",
          "data": {
            "text/plain": [
              "(4, 6)"
            ]
          },
          "metadata": {},
          "execution_count": 46
        }
      ]
    },
    {
      "cell_type": "code",
      "metadata": {
        "colab": {
          "base_uri": "https://localhost:8080/"
        },
        "id": "XxMyEJPfAoBM",
        "outputId": "71b1901c-96be-4cfd-bc18-f52b11b085f6"
      },
      "source": [
        "np.ndim(x)"
      ],
      "execution_count": 47,
      "outputs": [
        {
          "output_type": "execute_result",
          "data": {
            "text/plain": [
              "2"
            ]
          },
          "metadata": {},
          "execution_count": 47
        }
      ]
    },
    {
      "cell_type": "code",
      "metadata": {
        "id": "_NJEIidhAr_U"
      },
      "source": [
        "x = x.flatten()"
      ],
      "execution_count": 48,
      "outputs": []
    },
    {
      "cell_type": "code",
      "metadata": {
        "colab": {
          "base_uri": "https://localhost:8080/"
        },
        "id": "3iSDob_aA1kk",
        "outputId": "6c22401f-b835-4233-deb5-b7e30cc09b29"
      },
      "source": [
        "x"
      ],
      "execution_count": 49,
      "outputs": [
        {
          "output_type": "execute_result",
          "data": {
            "text/plain": [
              "array([98, 50, 41, 20, 59, 40, 31, 36, 68, 44, 30, 88, 16, 65, 21, 74, 28,\n",
              "       14, 11,  8, 13, 83, 98, 77])"
            ]
          },
          "metadata": {},
          "execution_count": 49
        }
      ]
    },
    {
      "cell_type": "code",
      "metadata": {
        "colab": {
          "base_uri": "https://localhost:8080/"
        },
        "id": "cbUbAc71A127",
        "outputId": "205e52c5-11bd-4baa-bf4e-0b1d2429bc8c"
      },
      "source": [
        "np.min(x)"
      ],
      "execution_count": 50,
      "outputs": [
        {
          "output_type": "execute_result",
          "data": {
            "text/plain": [
              "8"
            ]
          },
          "metadata": {},
          "execution_count": 50
        }
      ]
    },
    {
      "cell_type": "code",
      "metadata": {
        "colab": {
          "base_uri": "https://localhost:8080/"
        },
        "id": "5YIkTRrlBCA3",
        "outputId": "e6f81c1e-6dfe-4107-ddd4-c0286d68c76a"
      },
      "source": [
        "np.max(x)"
      ],
      "execution_count": 51,
      "outputs": [
        {
          "output_type": "execute_result",
          "data": {
            "text/plain": [
              "98"
            ]
          },
          "metadata": {},
          "execution_count": 51
        }
      ]
    },
    {
      "cell_type": "code",
      "metadata": {
        "colab": {
          "base_uri": "https://localhost:8080/"
        },
        "id": "Qwpcb9xABC8B",
        "outputId": "cb04249f-6197-4514-c3b7-69f4e588ab66"
      },
      "source": [
        "np.sort(x)"
      ],
      "execution_count": 52,
      "outputs": [
        {
          "output_type": "execute_result",
          "data": {
            "text/plain": [
              "array([ 8, 11, 13, 14, 16, 20, 21, 28, 30, 31, 36, 40, 41, 44, 50, 59, 65,\n",
              "       68, 74, 77, 83, 88, 98, 98])"
            ]
          },
          "metadata": {},
          "execution_count": 52
        }
      ]
    },
    {
      "cell_type": "code",
      "metadata": {
        "colab": {
          "base_uri": "https://localhost:8080/"
        },
        "id": "Ceam_IXwBGrY",
        "outputId": "184245e6-8442-4c04-8c60-b8917219ccc8"
      },
      "source": [
        "np.argmax(x)"
      ],
      "execution_count": 53,
      "outputs": [
        {
          "output_type": "execute_result",
          "data": {
            "text/plain": [
              "0"
            ]
          },
          "metadata": {},
          "execution_count": 53
        }
      ]
    },
    {
      "cell_type": "code",
      "metadata": {
        "colab": {
          "base_uri": "https://localhost:8080/"
        },
        "id": "5vJxl-4PBK2M",
        "outputId": "49228965-4ff6-4210-b786-a5fb821e9159"
      },
      "source": [
        "np.argmin(x)"
      ],
      "execution_count": 54,
      "outputs": [
        {
          "output_type": "execute_result",
          "data": {
            "text/plain": [
              "19"
            ]
          },
          "metadata": {},
          "execution_count": 54
        }
      ]
    },
    {
      "cell_type": "code",
      "metadata": {
        "colab": {
          "base_uri": "https://localhost:8080/"
        },
        "id": "DRbEqKnXBTe5",
        "outputId": "4e809ae4-fa4e-410d-83a6-4b2935884bb4"
      },
      "source": [
        "x[0]"
      ],
      "execution_count": 55,
      "outputs": [
        {
          "output_type": "execute_result",
          "data": {
            "text/plain": [
              "98"
            ]
          },
          "metadata": {},
          "execution_count": 55
        }
      ]
    },
    {
      "cell_type": "code",
      "metadata": {
        "id": "OWuqZWT-BiOq"
      },
      "source": [
        "x[0] = 100"
      ],
      "execution_count": 56,
      "outputs": []
    },
    {
      "cell_type": "code",
      "metadata": {
        "colab": {
          "base_uri": "https://localhost:8080/"
        },
        "id": "vEcYOjGABj2Z",
        "outputId": "889bb308-4511-4bc5-838c-9bc2dcab3f6a"
      },
      "source": [
        "x"
      ],
      "execution_count": 57,
      "outputs": [
        {
          "output_type": "execute_result",
          "data": {
            "text/plain": [
              "array([100,  50,  41,  20,  59,  40,  31,  36,  68,  44,  30,  88,  16,\n",
              "        65,  21,  74,  28,  14,  11,   8,  13,  83,  98,  77])"
            ]
          },
          "metadata": {},
          "execution_count": 57
        }
      ]
    },
    {
      "cell_type": "code",
      "metadata": {
        "colab": {
          "base_uri": "https://localhost:8080/"
        },
        "id": "DYZw-N1VBkpg",
        "outputId": "951b15f2-7fc9-4f26-d3ed-b791eee95c8f"
      },
      "source": [
        "np.sum(x)"
      ],
      "execution_count": 58,
      "outputs": [
        {
          "output_type": "execute_result",
          "data": {
            "text/plain": [
              "1115"
            ]
          },
          "metadata": {},
          "execution_count": 58
        }
      ]
    },
    {
      "cell_type": "code",
      "metadata": {
        "colab": {
          "base_uri": "https://localhost:8080/"
        },
        "id": "Nt0GtqKQB4Sk",
        "outputId": "5188dd71-9dae-442e-f5bb-8fcda77d8830"
      },
      "source": [
        "np.mean(x)"
      ],
      "execution_count": 59,
      "outputs": [
        {
          "output_type": "execute_result",
          "data": {
            "text/plain": [
              "46.458333333333336"
            ]
          },
          "metadata": {},
          "execution_count": 59
        }
      ]
    },
    {
      "cell_type": "code",
      "metadata": {
        "colab": {
          "base_uri": "https://localhost:8080/"
        },
        "id": "i4CuoEtQB8E1",
        "outputId": "13add783-60c2-43f3-9033-00116f29cdf2"
      },
      "source": [
        "np.median(x)"
      ],
      "execution_count": 60,
      "outputs": [
        {
          "output_type": "execute_result",
          "data": {
            "text/plain": [
              "40.5"
            ]
          },
          "metadata": {},
          "execution_count": 60
        }
      ]
    },
    {
      "cell_type": "code",
      "metadata": {
        "colab": {
          "base_uri": "https://localhost:8080/"
        },
        "id": "bPi3VLI0CNHG",
        "outputId": "5452e626-ddb2-40cc-c64c-a3c9a3f1b256"
      },
      "source": [
        "np.std(x)"
      ],
      "execution_count": 61,
      "outputs": [
        {
          "output_type": "execute_result",
          "data": {
            "text/plain": [
              "28.486808594310613"
            ]
          },
          "metadata": {},
          "execution_count": 61
        }
      ]
    },
    {
      "cell_type": "code",
      "metadata": {
        "colab": {
          "base_uri": "https://localhost:8080/"
        },
        "id": "EjObYahwCOkp",
        "outputId": "a0e35078-4d89-421d-f654-6ebf9888ba69"
      },
      "source": [
        "np.var(x)"
      ],
      "execution_count": 62,
      "outputs": [
        {
          "output_type": "execute_result",
          "data": {
            "text/plain": [
              "811.498263888889"
            ]
          },
          "metadata": {},
          "execution_count": 62
        }
      ]
    },
    {
      "cell_type": "code",
      "metadata": {
        "colab": {
          "base_uri": "https://localhost:8080/"
        },
        "id": "RzdwfzN0CPrc",
        "outputId": "766fa80f-1107-4693-e7f2-fc93d05bbbd3"
      },
      "source": [
        "np.reshape(x,(4,6))"
      ],
      "execution_count": 66,
      "outputs": [
        {
          "output_type": "execute_result",
          "data": {
            "text/plain": [
              "array([[100,  50,  41,  20,  59,  40],\n",
              "       [ 31,  36,  68,  44,  30,  88],\n",
              "       [ 16,  65,  21,  74,  28,  14],\n",
              "       [ 11,   8,  13,  83,  98,  77]])"
            ]
          },
          "metadata": {},
          "execution_count": 66
        }
      ]
    },
    {
      "cell_type": "code",
      "metadata": {
        "id": "ldZs3WOuDOFo"
      },
      "source": [
        "x = np.reshape(x,(4,-1))"
      ],
      "execution_count": 72,
      "outputs": []
    },
    {
      "cell_type": "code",
      "metadata": {
        "colab": {
          "base_uri": "https://localhost:8080/"
        },
        "id": "LxGA_DIgDZoE",
        "outputId": "bea451fb-e265-4887-dc4d-d4cc9869bd81"
      },
      "source": [
        "x"
      ],
      "execution_count": 70,
      "outputs": [
        {
          "output_type": "execute_result",
          "data": {
            "text/plain": [
              "array([[100,  50,  41,  20,  59,  40],\n",
              "       [ 31,  36,  68,  44,  30,  88],\n",
              "       [ 16,  65,  21,  74,  28,  14],\n",
              "       [ 11,   8,  13,  83,  98,  77]])"
            ]
          },
          "metadata": {},
          "execution_count": 70
        }
      ]
    },
    {
      "cell_type": "code",
      "metadata": {
        "colab": {
          "base_uri": "https://localhost:8080/"
        },
        "id": "YVGLDk8VDaXU",
        "outputId": "13226327-9e97-42da-a2b1-47fbd531c0e8"
      },
      "source": [
        "np.max(x)"
      ],
      "execution_count": 73,
      "outputs": [
        {
          "output_type": "execute_result",
          "data": {
            "text/plain": [
              "100"
            ]
          },
          "metadata": {},
          "execution_count": 73
        }
      ]
    },
    {
      "cell_type": "code",
      "metadata": {
        "colab": {
          "base_uri": "https://localhost:8080/"
        },
        "id": "PrCrAZ46D9dT",
        "outputId": "821e7474-9306-44b8-f403-84e2291bd3e5"
      },
      "source": [
        "np.max(x, axis=0)"
      ],
      "execution_count": 74,
      "outputs": [
        {
          "output_type": "execute_result",
          "data": {
            "text/plain": [
              "array([100,  65,  68,  83,  98,  88])"
            ]
          },
          "metadata": {},
          "execution_count": 74
        }
      ]
    },
    {
      "cell_type": "code",
      "metadata": {
        "colab": {
          "base_uri": "https://localhost:8080/"
        },
        "id": "yxCiwqk7EC9u",
        "outputId": "16e1250e-6f5e-4851-fce5-073ba39e8de5"
      },
      "source": [
        "np.max(x, axis=1)"
      ],
      "execution_count": 75,
      "outputs": [
        {
          "output_type": "execute_result",
          "data": {
            "text/plain": [
              "array([100,  88,  74,  98])"
            ]
          },
          "metadata": {},
          "execution_count": 75
        }
      ]
    },
    {
      "cell_type": "code",
      "metadata": {
        "colab": {
          "base_uri": "https://localhost:8080/"
        },
        "id": "TS9Ox-J5EF24",
        "outputId": "33c0963b-20a4-48e1-9506-ea4d384575e3"
      },
      "source": [
        "np.mean(x, axis=0)"
      ],
      "execution_count": 77,
      "outputs": [
        {
          "output_type": "execute_result",
          "data": {
            "text/plain": [
              "array([39.5 , 39.75, 35.75, 55.25, 53.75, 54.75])"
            ]
          },
          "metadata": {},
          "execution_count": 77
        }
      ]
    },
    {
      "cell_type": "code",
      "metadata": {
        "colab": {
          "base_uri": "https://localhost:8080/"
        },
        "id": "dhXTNa_9EMVD",
        "outputId": "0e4642a3-5ce6-4f0e-beee-46de9d4a26cb"
      },
      "source": [
        "# y = np.array([[2,4,5,2,55,2]])\n",
        "np.vstack((x, [2,4,5,2,55,2]))"
      ],
      "execution_count": 88,
      "outputs": [
        {
          "output_type": "execute_result",
          "data": {
            "text/plain": [
              "array([[100,  50,  41,  20,  59,  40],\n",
              "       [ 31,  36,  68,  44,  30,  88],\n",
              "       [ 16,  65,  21,  74,  28,  14],\n",
              "       [ 11,   8,  13,  83,  98,  77],\n",
              "       [  2,   4,   5,   2,  55,   2]])"
            ]
          },
          "metadata": {},
          "execution_count": 88
        }
      ]
    },
    {
      "cell_type": "code",
      "metadata": {
        "colab": {
          "base_uri": "https://localhost:8080/"
        },
        "id": "jX-OQeo9EYJH",
        "outputId": "a0dfefbf-c2ac-4807-fc84-688af09cacad"
      },
      "source": [
        "y = np.array([[2],[4],[5],[2]])\n",
        "np.hstack((x, y))"
      ],
      "execution_count": 86,
      "outputs": [
        {
          "output_type": "execute_result",
          "data": {
            "text/plain": [
              "array([[100,  50,  41,  20,  59,  40,   2],\n",
              "       [ 31,  36,  68,  44,  30,  88,   4],\n",
              "       [ 16,  65,  21,  74,  28,  14,   5],\n",
              "       [ 11,   8,  13,  83,  98,  77,   2]])"
            ]
          },
          "metadata": {},
          "execution_count": 86
        }
      ]
    },
    {
      "cell_type": "code",
      "metadata": {
        "id": "kgpa7_GVE9HG"
      },
      "source": [
        "import sys"
      ],
      "execution_count": 89,
      "outputs": []
    },
    {
      "cell_type": "code",
      "metadata": {
        "colab": {
          "base_uri": "https://localhost:8080/"
        },
        "id": "KYoCGP26GIWd",
        "outputId": "eb2ce0de-0ece-48db-daad-1969ab84d650"
      },
      "source": [
        "sys.getsizeof([])"
      ],
      "execution_count": 90,
      "outputs": [
        {
          "output_type": "execute_result",
          "data": {
            "text/plain": [
              "72"
            ]
          },
          "metadata": {},
          "execution_count": 90
        }
      ]
    },
    {
      "cell_type": "code",
      "metadata": {
        "colab": {
          "base_uri": "https://localhost:8080/"
        },
        "id": "qfle33zLGPp9",
        "outputId": "6e6fa36c-153d-4943-b6f9-0d6c1230c837"
      },
      "source": [
        "sys.getsizeof(np.array([]))"
      ],
      "execution_count": 92,
      "outputs": [
        {
          "output_type": "execute_result",
          "data": {
            "text/plain": [
              "96"
            ]
          },
          "metadata": {},
          "execution_count": 92
        }
      ]
    },
    {
      "cell_type": "code",
      "metadata": {
        "colab": {
          "base_uri": "https://localhost:8080/"
        },
        "id": "tBCPCV7fGTXs",
        "outputId": "2bb67a0a-d67f-45be-c4a8-de6fc11fb888"
      },
      "source": [
        "sys.getsizeof([i for i in range(10000)])"
      ],
      "execution_count": 99,
      "outputs": [
        {
          "output_type": "execute_result",
          "data": {
            "text/plain": [
              "87632"
            ]
          },
          "metadata": {},
          "execution_count": 99
        }
      ]
    },
    {
      "cell_type": "code",
      "metadata": {
        "colab": {
          "base_uri": "https://localhost:8080/"
        },
        "id": "BYhCQcb4Galo",
        "outputId": "053f01b1-f2ac-45d4-aed6-4be15df2da8d"
      },
      "source": [
        "sys.getsizeof(np.array([i for i in range(10000)]))"
      ],
      "execution_count": 100,
      "outputs": [
        {
          "output_type": "execute_result",
          "data": {
            "text/plain": [
              "80096"
            ]
          },
          "metadata": {},
          "execution_count": 100
        }
      ]
    },
    {
      "cell_type": "code",
      "metadata": {
        "id": "dlbaIm5qGetk"
      },
      "source": [
        ""
      ],
      "execution_count": null,
      "outputs": []
    }
  ]
}