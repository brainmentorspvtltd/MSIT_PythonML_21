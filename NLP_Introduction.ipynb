{
  "nbformat": 4,
  "nbformat_minor": 0,
  "metadata": {
    "colab": {
      "name": "NLP_Introduction.ipynb",
      "provenance": [],
      "collapsed_sections": []
    },
    "kernelspec": {
      "name": "python3",
      "display_name": "Python 3"
    },
    "language_info": {
      "name": "python"
    }
  },
  "cells": [
    {
      "cell_type": "code",
      "metadata": {
        "colab": {
          "base_uri": "https://localhost:8080/"
        },
        "id": "RF0SD1weBDwn",
        "outputId": "6acb3785-4de6-47f1-d255-8bd0d6934e37"
      },
      "source": [
        "import nltk\n",
        "nltk.download('punkt')"
      ],
      "execution_count": 4,
      "outputs": [
        {
          "output_type": "stream",
          "name": "stdout",
          "text": [
            "[nltk_data] Downloading package punkt to /root/nltk_data...\n",
            "[nltk_data]   Unzipping tokenizers/punkt.zip.\n"
          ]
        },
        {
          "output_type": "execute_result",
          "data": {
            "text/plain": [
              "True"
            ]
          },
          "metadata": {},
          "execution_count": 4
        }
      ]
    },
    {
      "cell_type": "code",
      "metadata": {
        "colab": {
          "base_uri": "https://localhost:8080/"
        },
        "id": "8TpQsbfxBDnm",
        "outputId": "61070fcd-ae84-4f70-ac3e-83aaed7d904e"
      },
      "source": [
        "nltk.download('stopwords')"
      ],
      "execution_count": 19,
      "outputs": [
        {
          "output_type": "stream",
          "name": "stdout",
          "text": [
            "[nltk_data] Downloading package stopwords to /root/nltk_data...\n",
            "[nltk_data]   Unzipping corpora/stopwords.zip.\n"
          ]
        },
        {
          "output_type": "execute_result",
          "data": {
            "text/plain": [
              "True"
            ]
          },
          "metadata": {},
          "execution_count": 19
        }
      ]
    },
    {
      "cell_type": "code",
      "metadata": {
        "colab": {
          "base_uri": "https://localhost:8080/"
        },
        "id": "ctFWWl0fG9dE",
        "outputId": "1a0a6772-d499-4933-9101-b063eb695890"
      },
      "source": [
        "nltk.download('wordnet')"
      ],
      "execution_count": 39,
      "outputs": [
        {
          "output_type": "stream",
          "name": "stdout",
          "text": [
            "[nltk_data] Downloading package wordnet to /root/nltk_data...\n",
            "[nltk_data]   Unzipping corpora/wordnet.zip.\n"
          ]
        },
        {
          "output_type": "execute_result",
          "data": {
            "text/plain": [
              "True"
            ]
          },
          "metadata": {},
          "execution_count": 39
        }
      ]
    },
    {
      "cell_type": "code",
      "metadata": {
        "id": "xjO7F43y_y_T"
      },
      "source": [
        "import string\n",
        "from nltk.tokenize import word_tokenize\n",
        "from nltk.corpus import stopwords\n",
        "from nltk.stem import PorterStemmer, WordNetLemmatizer\n",
        "from sklearn.feature_extraction.text import TfidfVectorizer"
      ],
      "execution_count": 1,
      "outputs": []
    },
    {
      "cell_type": "code",
      "metadata": {
        "id": "fNlvubNgAaSM"
      },
      "source": [
        "docuements = [\n",
        "              \"I was watching that movie yesterday and the movie was awesome\",\n",
        "              \"You should also watch that movie, you will like that..!!!\",\n",
        "              \"The acting was very nice and all the actors did great job...\"\n",
        "]"
      ],
      "execution_count": 10,
      "outputs": []
    },
    {
      "cell_type": "code",
      "metadata": {
        "colab": {
          "base_uri": "https://localhost:8080/"
        },
        "id": "zIsVqJD9A0Y0",
        "outputId": "5fc94a09-70df-4048-e8ca-6010a0fae92d"
      },
      "source": [
        "print(word_tokenize(docuements[1]))"
      ],
      "execution_count": 6,
      "outputs": [
        {
          "output_type": "stream",
          "name": "stdout",
          "text": [
            "['You', 'should', 'also', 'watch', 'that', 'movie', ',', 'you', 'will', 'like', 'that']\n"
          ]
        }
      ]
    },
    {
      "cell_type": "code",
      "metadata": {
        "colab": {
          "base_uri": "https://localhost:8080/",
          "height": 35
        },
        "id": "9Lez614xB20z",
        "outputId": "263bd689-ad14-4771-dabb-15422f7c2d7d"
      },
      "source": [
        "string.punctuation"
      ],
      "execution_count": 9,
      "outputs": [
        {
          "output_type": "execute_result",
          "data": {
            "application/vnd.google.colaboratory.intrinsic+json": {
              "type": "string"
            },
            "text/plain": [
              "'!\"#$%&\\'()*+,-./:;<=>?@[\\\\]^_`{|}~'"
            ]
          },
          "metadata": {},
          "execution_count": 9
        }
      ]
    },
    {
      "cell_type": "code",
      "metadata": {
        "colab": {
          "base_uri": "https://localhost:8080/"
        },
        "id": "GGzVz5MUB6_-",
        "outputId": "b85212da-245f-4fd9-dfca-f1650f06b6b7"
      },
      "source": [
        "print(str.maketrans('','',string.punctuation))"
      ],
      "execution_count": 12,
      "outputs": [
        {
          "output_type": "stream",
          "name": "stdout",
          "text": [
            "{33: None, 34: None, 35: None, 36: None, 37: None, 38: None, 39: None, 40: None, 41: None, 42: None, 43: None, 44: None, 45: None, 46: None, 47: None, 58: None, 59: None, 60: None, 61: None, 62: None, 63: None, 64: None, 91: None, 92: None, 93: None, 94: None, 95: None, 96: None, 123: None, 124: None, 125: None, 126: None}\n"
          ]
        }
      ]
    },
    {
      "cell_type": "code",
      "metadata": {
        "colab": {
          "base_uri": "https://localhost:8080/",
          "height": 35
        },
        "id": "kGP-pGoOB68k",
        "outputId": "9e26829a-e888-4a19-d3e8-1ffc3d27387d"
      },
      "source": [
        "table = str.maketrans('','',string.punctuation)\n",
        "docuements[1].translate(table)"
      ],
      "execution_count": 13,
      "outputs": [
        {
          "output_type": "execute_result",
          "data": {
            "application/vnd.google.colaboratory.intrinsic+json": {
              "type": "string"
            },
            "text/plain": [
              "'You should also watch that movie you will like that'"
            ]
          },
          "metadata": {},
          "execution_count": 13
        }
      ]
    },
    {
      "cell_type": "code",
      "metadata": {
        "id": "ITkWlyhtB2j-"
      },
      "source": [
        "for i in range(len(docuements)):\n",
        "  docuements[i] = docuements[i].translate(table)"
      ],
      "execution_count": 14,
      "outputs": []
    },
    {
      "cell_type": "code",
      "metadata": {
        "id": "cqkgzzrMA_Q4"
      },
      "source": [
        "tokens = []\n",
        "for i in range(len(docuements)):\n",
        "  tokens.append(word_tokenize(docuements[i].lower()))"
      ],
      "execution_count": 15,
      "outputs": []
    },
    {
      "cell_type": "code",
      "metadata": {
        "colab": {
          "base_uri": "https://localhost:8080/"
        },
        "id": "JL_mdmDqBeNi",
        "outputId": "da2a6eb4-a923-44ee-9c1d-20bfee84a840"
      },
      "source": [
        "print(tokens)"
      ],
      "execution_count": 16,
      "outputs": [
        {
          "output_type": "stream",
          "name": "stdout",
          "text": [
            "[['i', 'was', 'watching', 'that', 'movie', 'yesterday', 'and', 'the', 'movie', 'was', 'awesome'], ['you', 'should', 'also', 'watch', 'that', 'movie', 'you', 'will', 'like', 'that'], ['the', 'acting', 'was', 'very', 'nice', 'and', 'all', 'the', 'actors', 'did', 'great', 'job']]\n"
          ]
        }
      ]
    },
    {
      "cell_type": "code",
      "metadata": {
        "id": "Vivi0fxtBgvW"
      },
      "source": [
        "# import os\n",
        "# os.listdir('/root/nltk_data/corpora/stopwords/')"
      ],
      "execution_count": 26,
      "outputs": []
    },
    {
      "cell_type": "code",
      "metadata": {
        "id": "eChymeTRDv5d"
      },
      "source": [
        "english_stopwords = stopwords.words(\"english\")"
      ],
      "execution_count": 27,
      "outputs": []
    },
    {
      "cell_type": "code",
      "metadata": {
        "id": "Nsv6AHBDE2WK"
      },
      "source": [
        "wordsList = []\n",
        "for i in range(len(tokens)):\n",
        "  words = []\n",
        "  for token in tokens[i]:\n",
        "    if token not in english_stopwords:\n",
        "      words.append(token)\n",
        "  wordsList.append(words)"
      ],
      "execution_count": 31,
      "outputs": []
    },
    {
      "cell_type": "code",
      "metadata": {
        "colab": {
          "base_uri": "https://localhost:8080/"
        },
        "id": "314ZnD48Fgql",
        "outputId": "60096ba8-4226-44ba-ece5-65f1d8a1295a"
      },
      "source": [
        "print(wordsList)"
      ],
      "execution_count": 32,
      "outputs": [
        {
          "output_type": "stream",
          "name": "stdout",
          "text": [
            "[['watching', 'movie', 'yesterday', 'movie', 'awesome'], ['also', 'watch', 'movie', 'like'], ['acting', 'nice', 'actors', 'great', 'job']]\n"
          ]
        }
      ]
    },
    {
      "cell_type": "code",
      "metadata": {
        "colab": {
          "base_uri": "https://localhost:8080/",
          "height": 35
        },
        "id": "afE6uxT3FlAC",
        "outputId": "4011edfb-6b61-477e-b394-6fc04ad17ef5"
      },
      "source": [
        "ps = PorterStemmer()\n",
        "ps.stem('watching')"
      ],
      "execution_count": 33,
      "outputs": [
        {
          "output_type": "execute_result",
          "data": {
            "application/vnd.google.colaboratory.intrinsic+json": {
              "type": "string"
            },
            "text/plain": [
              "'watch'"
            ]
          },
          "metadata": {},
          "execution_count": 33
        }
      ]
    },
    {
      "cell_type": "code",
      "metadata": {
        "colab": {
          "base_uri": "https://localhost:8080/",
          "height": 35
        },
        "id": "d861g9sNGcRc",
        "outputId": "454612f7-fc72-4ca8-a262-1d3a61458c12"
      },
      "source": [
        "ps.stem('played')"
      ],
      "execution_count": 34,
      "outputs": [
        {
          "output_type": "execute_result",
          "data": {
            "application/vnd.google.colaboratory.intrinsic+json": {
              "type": "string"
            },
            "text/plain": [
              "'play'"
            ]
          },
          "metadata": {},
          "execution_count": 34
        }
      ]
    },
    {
      "cell_type": "code",
      "metadata": {
        "colab": {
          "base_uri": "https://localhost:8080/",
          "height": 35
        },
        "id": "MxYrbBDOGeaD",
        "outputId": "f42745e5-4622-4a07-f179-759eb6539bb1"
      },
      "source": [
        "ps.stem('flying')"
      ],
      "execution_count": 35,
      "outputs": [
        {
          "output_type": "execute_result",
          "data": {
            "application/vnd.google.colaboratory.intrinsic+json": {
              "type": "string"
            },
            "text/plain": [
              "'fli'"
            ]
          },
          "metadata": {},
          "execution_count": 35
        }
      ]
    },
    {
      "cell_type": "code",
      "metadata": {
        "colab": {
          "base_uri": "https://localhost:8080/",
          "height": 35
        },
        "id": "BakZ2TMpGh7P",
        "outputId": "f4a76eb3-f07b-4660-eaec-fd9c645efaa8"
      },
      "source": [
        "ps.stem('bought')"
      ],
      "execution_count": 36,
      "outputs": [
        {
          "output_type": "execute_result",
          "data": {
            "application/vnd.google.colaboratory.intrinsic+json": {
              "type": "string"
            },
            "text/plain": [
              "'bought'"
            ]
          },
          "metadata": {},
          "execution_count": 36
        }
      ]
    },
    {
      "cell_type": "code",
      "metadata": {
        "colab": {
          "base_uri": "https://localhost:8080/",
          "height": 35
        },
        "id": "73hcA_8iGm7b",
        "outputId": "9772f5b4-156a-4f1c-976b-81d02f0f8c29"
      },
      "source": [
        "wnet = WordNetLemmatizer()\n",
        "wnet.lemmatize('playing',pos='v')"
      ],
      "execution_count": 41,
      "outputs": [
        {
          "output_type": "execute_result",
          "data": {
            "application/vnd.google.colaboratory.intrinsic+json": {
              "type": "string"
            },
            "text/plain": [
              "'play'"
            ]
          },
          "metadata": {},
          "execution_count": 41
        }
      ]
    },
    {
      "cell_type": "code",
      "metadata": {
        "colab": {
          "base_uri": "https://localhost:8080/",
          "height": 35
        },
        "id": "d1qd6nheG3pD",
        "outputId": "f0df0c32-c83c-4320-90fa-d3ad4e6adbd4"
      },
      "source": [
        "wnet.lemmatize('bought',pos='v')"
      ],
      "execution_count": 42,
      "outputs": [
        {
          "output_type": "execute_result",
          "data": {
            "application/vnd.google.colaboratory.intrinsic+json": {
              "type": "string"
            },
            "text/plain": [
              "'buy'"
            ]
          },
          "metadata": {},
          "execution_count": 42
        }
      ]
    },
    {
      "cell_type": "code",
      "metadata": {
        "id": "Uym3p23THSna"
      },
      "source": [
        "for i in range(len(wordsList)):\n",
        "  for j in range(len(wordsList[i])):\n",
        "    wordsList[i][j] = wnet.lemmatize(wordsList[i][j], pos='v')"
      ],
      "execution_count": 43,
      "outputs": []
    },
    {
      "cell_type": "code",
      "metadata": {
        "colab": {
          "base_uri": "https://localhost:8080/"
        },
        "id": "tFndgTuOHgVC",
        "outputId": "7094ec50-4968-46d7-b662-6474dd73f475"
      },
      "source": [
        "print(wordsList)"
      ],
      "execution_count": 44,
      "outputs": [
        {
          "output_type": "stream",
          "name": "stdout",
          "text": [
            "[['watch', 'movie', 'yesterday', 'movie', 'awesome'], ['also', 'watch', 'movie', 'like'], ['act', 'nice', 'actors', 'great', 'job']]\n"
          ]
        }
      ]
    },
    {
      "cell_type": "code",
      "metadata": {
        "id": "UzisQmlbHiq6"
      },
      "source": [
        ""
      ],
      "execution_count": null,
      "outputs": []
    }
  ]
}