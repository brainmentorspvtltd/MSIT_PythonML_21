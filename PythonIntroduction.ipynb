{
  "nbformat": 4,
  "nbformat_minor": 0,
  "metadata": {
    "colab": {
      "name": "PythonIntroduction.ipynb",
      "provenance": [],
      "collapsed_sections": []
    },
    "kernelspec": {
      "name": "python3",
      "display_name": "Python 3"
    },
    "language_info": {
      "name": "python"
    }
  },
  "cells": [
    {
      "cell_type": "code",
      "metadata": {
        "colab": {
          "base_uri": "https://localhost:8080/"
        },
        "id": "HZNy_kdomdlI",
        "outputId": "9ccbb333-e182-4582-96cc-4ca97e4eb9d7"
      },
      "source": [
        "!python3 --version"
      ],
      "execution_count": 45,
      "outputs": [
        {
          "output_type": "stream",
          "name": "stdout",
          "text": [
            "Python 3.7.12\n"
          ]
        }
      ]
    },
    {
      "cell_type": "code",
      "metadata": {
        "id": "vgU725OHmksR"
      },
      "source": [
        "# !sudo update-alternatives --config python3"
      ],
      "execution_count": 48,
      "outputs": []
    },
    {
      "cell_type": "code",
      "metadata": {
        "id": "FwOz6FljeW1w"
      },
      "source": [
        "x = 12\n",
        "y = 22"
      ],
      "execution_count": 1,
      "outputs": []
    },
    {
      "cell_type": "code",
      "metadata": {
        "id": "61zPo12genOS"
      },
      "source": [
        "z = x + y"
      ],
      "execution_count": 2,
      "outputs": []
    },
    {
      "cell_type": "code",
      "metadata": {
        "colab": {
          "base_uri": "https://localhost:8080/"
        },
        "id": "olTC9A2ieo34",
        "outputId": "50a8d739-08a9-458f-cbeb-073a10ae1b39"
      },
      "source": [
        "z"
      ],
      "execution_count": 3,
      "outputs": [
        {
          "output_type": "execute_result",
          "data": {
            "text/plain": [
              "34"
            ]
          },
          "metadata": {},
          "execution_count": 3
        }
      ]
    },
    {
      "cell_type": "code",
      "metadata": {
        "colab": {
          "base_uri": "https://localhost:8080/"
        },
        "id": "G463SnDAepFM",
        "outputId": "ed16e4ee-c2f9-4651-b40f-5d04c9633fbc"
      },
      "source": [
        "type(x)"
      ],
      "execution_count": 4,
      "outputs": [
        {
          "output_type": "execute_result",
          "data": {
            "text/plain": [
              "int"
            ]
          },
          "metadata": {},
          "execution_count": 4
        }
      ]
    },
    {
      "cell_type": "code",
      "metadata": {
        "colab": {
          "base_uri": "https://localhost:8080/"
        },
        "id": "M51pYvBdfZw3",
        "outputId": "5c91b1f1-87c5-4ebb-a7f1-234cbeacb7b0"
      },
      "source": [
        "x = \"hello\"\n",
        "type(x)"
      ],
      "execution_count": 5,
      "outputs": [
        {
          "output_type": "execute_result",
          "data": {
            "text/plain": [
              "str"
            ]
          },
          "metadata": {},
          "execution_count": 5
        }
      ]
    },
    {
      "cell_type": "code",
      "metadata": {
        "id": "Gzdeer4Afbyj"
      },
      "source": [
        "x,y = 10,20"
      ],
      "execution_count": 6,
      "outputs": []
    },
    {
      "cell_type": "code",
      "metadata": {
        "id": "3CrMEpdAfihO"
      },
      "source": [
        "x,y = y,x"
      ],
      "execution_count": 7,
      "outputs": []
    },
    {
      "cell_type": "code",
      "metadata": {
        "colab": {
          "base_uri": "https://localhost:8080/"
        },
        "id": "nEnCW-rgfkNE",
        "outputId": "0fcccc99-51cc-4ce5-c7fc-1eb2a8803013"
      },
      "source": [
        "x + y"
      ],
      "execution_count": 8,
      "outputs": [
        {
          "output_type": "execute_result",
          "data": {
            "text/plain": [
              "30"
            ]
          },
          "metadata": {},
          "execution_count": 8
        }
      ]
    },
    {
      "cell_type": "code",
      "metadata": {
        "colab": {
          "base_uri": "https://localhost:8080/"
        },
        "id": "V2_tC4yWfprq",
        "outputId": "7fe241be-6b3f-4b8e-c4c6-97e55f7a4629"
      },
      "source": [
        "x - y"
      ],
      "execution_count": 9,
      "outputs": [
        {
          "output_type": "execute_result",
          "data": {
            "text/plain": [
              "10"
            ]
          },
          "metadata": {},
          "execution_count": 9
        }
      ]
    },
    {
      "cell_type": "code",
      "metadata": {
        "colab": {
          "base_uri": "https://localhost:8080/"
        },
        "id": "IPdiALayfqa5",
        "outputId": "2fdd230e-4f74-4780-fd21-7cebf556d55a"
      },
      "source": [
        "x / y"
      ],
      "execution_count": 10,
      "outputs": [
        {
          "output_type": "execute_result",
          "data": {
            "text/plain": [
              "2.0"
            ]
          },
          "metadata": {},
          "execution_count": 10
        }
      ]
    },
    {
      "cell_type": "code",
      "metadata": {
        "colab": {
          "base_uri": "https://localhost:8080/"
        },
        "id": "Bgd25dR2frFm",
        "outputId": "b57c2a36-215b-437a-8f24-da5a38d884d4"
      },
      "source": [
        "x * y"
      ],
      "execution_count": 11,
      "outputs": [
        {
          "output_type": "execute_result",
          "data": {
            "text/plain": [
              "200"
            ]
          },
          "metadata": {},
          "execution_count": 11
        }
      ]
    },
    {
      "cell_type": "code",
      "metadata": {
        "colab": {
          "base_uri": "https://localhost:8080/"
        },
        "id": "iA1jTbfrfrjj",
        "outputId": "ad711cb7-0831-4437-a5ea-c60aa28af2e2"
      },
      "source": [
        "x ** 2"
      ],
      "execution_count": 12,
      "outputs": [
        {
          "output_type": "execute_result",
          "data": {
            "text/plain": [
              "400"
            ]
          },
          "metadata": {},
          "execution_count": 12
        }
      ]
    },
    {
      "cell_type": "code",
      "metadata": {
        "colab": {
          "base_uri": "https://localhost:8080/"
        },
        "id": "P-1Yu77xftxT",
        "outputId": "f75ff433-d328-4f9c-d8c5-acfcf1f605a7"
      },
      "source": [
        "x ** y"
      ],
      "execution_count": 13,
      "outputs": [
        {
          "output_type": "execute_result",
          "data": {
            "text/plain": [
              "10240000000000"
            ]
          },
          "metadata": {},
          "execution_count": 13
        }
      ]
    },
    {
      "cell_type": "code",
      "metadata": {
        "colab": {
          "base_uri": "https://localhost:8080/"
        },
        "id": "Apcbxxv_fvTj",
        "outputId": "a244afcb-7dc7-46c4-c28d-24ddf8252f38"
      },
      "source": [
        "x / y"
      ],
      "execution_count": 15,
      "outputs": [
        {
          "output_type": "execute_result",
          "data": {
            "text/plain": [
              "2.0"
            ]
          },
          "metadata": {},
          "execution_count": 15
        }
      ]
    },
    {
      "cell_type": "code",
      "metadata": {
        "colab": {
          "base_uri": "https://localhost:8080/"
        },
        "id": "_TVnhHqHfzWa",
        "outputId": "eba01550-3d4c-4677-805b-19c2a5b27e9c"
      },
      "source": [
        "21 // 8"
      ],
      "execution_count": 17,
      "outputs": [
        {
          "output_type": "execute_result",
          "data": {
            "text/plain": [
              "2"
            ]
          },
          "metadata": {},
          "execution_count": 17
        }
      ]
    },
    {
      "cell_type": "code",
      "metadata": {
        "colab": {
          "base_uri": "https://localhost:8080/"
        },
        "id": "b8dPvlJif2ww",
        "outputId": "4e8e2904-6c67-4b8b-f5a5-cfa6226912ea"
      },
      "source": [
        "8 % 4"
      ],
      "execution_count": 18,
      "outputs": [
        {
          "output_type": "execute_result",
          "data": {
            "text/plain": [
              "0"
            ]
          },
          "metadata": {},
          "execution_count": 18
        }
      ]
    },
    {
      "cell_type": "code",
      "metadata": {
        "colab": {
          "base_uri": "https://localhost:8080/"
        },
        "id": "By4pJ_lKgATz",
        "outputId": "7c5d6b7e-a92d-410c-fd9e-d2fed9ca654c"
      },
      "source": [
        "a = 7\n",
        "b = 8\n",
        "c = a + b\n",
        "print(c)"
      ],
      "execution_count": 19,
      "outputs": [
        {
          "output_type": "stream",
          "name": "stdout",
          "text": [
            "15\n"
          ]
        }
      ]
    },
    {
      "cell_type": "code",
      "metadata": {
        "colab": {
          "base_uri": "https://localhost:8080/"
        },
        "id": "DmiW8zpngKxg",
        "outputId": "c4331c70-1b20-4b78-9d8a-bca0cd0e5a82"
      },
      "source": [
        "print(\"Sum is\",c)"
      ],
      "execution_count": 20,
      "outputs": [
        {
          "output_type": "stream",
          "name": "stdout",
          "text": [
            "Sum is 15\n"
          ]
        }
      ]
    },
    {
      "cell_type": "code",
      "metadata": {
        "colab": {
          "base_uri": "https://localhost:8080/"
        },
        "id": "1EnXbsE7gOmc",
        "outputId": "69d38b17-79cf-4686-8916-d2c692ae04e4"
      },
      "source": [
        "print(\"Sum of\", a, \"and\", b, \"is\", c)"
      ],
      "execution_count": 23,
      "outputs": [
        {
          "output_type": "stream",
          "name": "stdout",
          "text": [
            "Sum of 7 and 8 is 15\n"
          ]
        }
      ]
    },
    {
      "cell_type": "code",
      "metadata": {
        "colab": {
          "base_uri": "https://localhost:8080/"
        },
        "id": "Ijoqe5phgWs8",
        "outputId": "de014791-647e-4521-f149-b1ab7eb91c31"
      },
      "source": [
        "print(\"Sum is %d\"%c)\n",
        "print(\"Sum of %d and %d is %d\"%(a,b,c))"
      ],
      "execution_count": 32,
      "outputs": [
        {
          "output_type": "stream",
          "name": "stdout",
          "text": [
            "Sum is 15\n",
            "Sum of 7 and 8 is 15\n"
          ]
        }
      ]
    },
    {
      "cell_type": "code",
      "metadata": {
        "colab": {
          "base_uri": "https://localhost:8080/"
        },
        "id": "jza0dA2JgqgX",
        "outputId": "ceb2d31b-959c-43b7-fc94-14e8b67034b9"
      },
      "source": [
        "print(\"Sum is {}\".format(c))"
      ],
      "execution_count": 26,
      "outputs": [
        {
          "output_type": "stream",
          "name": "stdout",
          "text": [
            "Sum is 15\n"
          ]
        }
      ]
    },
    {
      "cell_type": "code",
      "metadata": {
        "colab": {
          "base_uri": "https://localhost:8080/"
        },
        "id": "XTYOqWqdhUyf",
        "outputId": "d14a00c5-7720-462a-cabc-711fb660935b"
      },
      "source": [
        "print(\"Sum of {} and {} is {}\".format(a,b,c))"
      ],
      "execution_count": 27,
      "outputs": [
        {
          "output_type": "stream",
          "name": "stdout",
          "text": [
            "Sum of 7 and 8 is 15\n"
          ]
        }
      ]
    },
    {
      "cell_type": "code",
      "metadata": {
        "id": "knIexJHThYrH"
      },
      "source": [
        "d = a / b"
      ],
      "execution_count": 28,
      "outputs": []
    },
    {
      "cell_type": "code",
      "metadata": {
        "colab": {
          "base_uri": "https://localhost:8080/"
        },
        "id": "E44bZdSLiXPV",
        "outputId": "3c633cbb-6bd4-4eac-9246-3c510f14bc70"
      },
      "source": [
        "d"
      ],
      "execution_count": 29,
      "outputs": [
        {
          "output_type": "execute_result",
          "data": {
            "text/plain": [
              "0.875"
            ]
          },
          "metadata": {},
          "execution_count": 29
        }
      ]
    },
    {
      "cell_type": "code",
      "metadata": {
        "colab": {
          "base_uri": "https://localhost:8080/"
        },
        "id": "qrMeDnThiXgR",
        "outputId": "0f7e4013-59df-4531-fdb3-e08eaaf5b2a0"
      },
      "source": [
        "print(\"Div of {} and {} is {}\".format(a,b,d))"
      ],
      "execution_count": 30,
      "outputs": [
        {
          "output_type": "stream",
          "name": "stdout",
          "text": [
            "Div of 7 and 8 is 0.875\n"
          ]
        }
      ]
    },
    {
      "cell_type": "code",
      "metadata": {
        "colab": {
          "base_uri": "https://localhost:8080/"
        },
        "id": "yzuFJrE-ifM4",
        "outputId": "9fe41616-e50e-4a2b-9f28-3c352739140e"
      },
      "source": [
        "print(\"Div of {} and {} is {:.2f}\".format(a,b,d))"
      ],
      "execution_count": 33,
      "outputs": [
        {
          "output_type": "stream",
          "name": "stdout",
          "text": [
            "Div of 7 and 8 is 0.88\n"
          ]
        }
      ]
    },
    {
      "cell_type": "code",
      "metadata": {
        "colab": {
          "base_uri": "https://localhost:8080/"
        },
        "id": "gTdqFFkmirbx",
        "outputId": "8e2e2581-5602-48a3-86ea-cc6a6d2fef22"
      },
      "source": [
        "print(\"Sum of {1} and {2} is {0}\".format(c,a,b))"
      ],
      "execution_count": 35,
      "outputs": [
        {
          "output_type": "stream",
          "name": "stdout",
          "text": [
            "Sum of 7 and 8 is 15\n"
          ]
        }
      ]
    },
    {
      "cell_type": "code",
      "metadata": {
        "colab": {
          "base_uri": "https://localhost:8080/"
        },
        "id": "CTjHHjofjdbp",
        "outputId": "1b5173c9-e0a5-4d6e-dd6e-7752f419d546"
      },
      "source": [
        "# f-strings - format string literals\n",
        "print(f\"Sum of {a} and {b} is {c}\")"
      ],
      "execution_count": 37,
      "outputs": [
        {
          "output_type": "stream",
          "name": "stdout",
          "text": [
            "Sum of 7 and 8 is 15\n"
          ]
        }
      ]
    },
    {
      "cell_type": "code",
      "metadata": {
        "colab": {
          "base_uri": "https://localhost:8080/"
        },
        "id": "k_g9VAD-kCqV",
        "outputId": "3c6959a3-3d69-40c4-f86d-a0e386883110"
      },
      "source": [
        "c = a + b\n",
        "d = a - b\n",
        "e = a / b\n",
        "f = a * b\n",
        "\n",
        "# print(f\"1. Add is {c}\")\n",
        "# print(f\"2. Sub is {d}\")\n",
        "# print(f\"3. Div is {e}\")\n",
        "# print(f\"4. Mul is {f}\")\n",
        "\n",
        "print(f\"\"\"\n",
        "1. Add is {c}\n",
        "2. Sub is {d}\n",
        "3. Div is {e}\n",
        "4. Mul is {f}\n",
        "\"\"\")"
      ],
      "execution_count": 41,
      "outputs": [
        {
          "output_type": "stream",
          "name": "stdout",
          "text": [
            "\n",
            "1. Add is 15\n",
            "2. Sub is -1\n",
            "3. Div is 0.875\n",
            "4. Mul is 56\n",
            "\n"
          ]
        }
      ]
    },
    {
      "cell_type": "code",
      "metadata": {
        "id": "-rac_i9Fkvkt"
      },
      "source": [
        "a = 6\n",
        "b = 8\n",
        "# walrus operator - will work on python 3.8 or above versions only\n",
        "# colab uses python 3.7, so it won't work here\n",
        "# print(\"Sum is\",c := a + b)"
      ],
      "execution_count": 49,
      "outputs": []
    },
    {
      "cell_type": "code",
      "metadata": {
        "colab": {
          "base_uri": "https://localhost:8080/"
        },
        "id": "U7VXrJo6lVuX",
        "outputId": "dcb1a6e1-f566-462b-b774-85b3148a4d4a"
      },
      "source": [
        "name = input(\"Enter your name : \")"
      ],
      "execution_count": 50,
      "outputs": [
        {
          "name": "stdout",
          "output_type": "stream",
          "text": [
            "Enter your name : Ravi\n"
          ]
        }
      ]
    },
    {
      "cell_type": "code",
      "metadata": {
        "colab": {
          "base_uri": "https://localhost:8080/"
        },
        "id": "yiic7TPOn0WM",
        "outputId": "9879a95b-e9c8-4e0a-a4bc-97b89a8ec400"
      },
      "source": [
        "x = int(input(\"Enter first number : \"))\n",
        "y = int(input(\"Enter second number : \"))\n",
        "z = x + y\n",
        "print(\"Sum is\",z)"
      ],
      "execution_count": 58,
      "outputs": [
        {
          "output_type": "stream",
          "name": "stdout",
          "text": [
            "Enter first number : 6\n",
            "Enter second number : 7\n",
            "Sum is 13\n"
          ]
        }
      ]
    },
    {
      "cell_type": "code",
      "metadata": {
        "colab": {
          "base_uri": "https://localhost:8080/"
        },
        "id": "DuiKTdPxn74A",
        "outputId": "fb169b5f-6594-4210-fad7-7a94192c0d15"
      },
      "source": [
        "type(x)"
      ],
      "execution_count": 57,
      "outputs": [
        {
          "output_type": "execute_result",
          "data": {
            "text/plain": [
              "str"
            ]
          },
          "metadata": {},
          "execution_count": 57
        }
      ]
    },
    {
      "cell_type": "code",
      "metadata": {
        "colab": {
          "base_uri": "https://localhost:8080/"
        },
        "id": "EO_Y3a9xoLmP",
        "outputId": "e7ae3cbc-3809-46ed-d18a-7b6027953d59"
      },
      "source": [
        "print(x)"
      ],
      "execution_count": 54,
      "outputs": [
        {
          "output_type": "stream",
          "name": "stdout",
          "text": [
            "4\n"
          ]
        }
      ]
    },
    {
      "cell_type": "code",
      "metadata": {
        "colab": {
          "base_uri": "https://localhost:8080/"
        },
        "id": "FXAMkbk7oOf_",
        "outputId": "5050cbcd-1cf5-4aa5-e4c9-bf353a4fde54"
      },
      "source": [
        "print(x)\n",
        "print(y)\n",
        "print(z)"
      ],
      "execution_count": 56,
      "outputs": [
        {
          "output_type": "stream",
          "name": "stdout",
          "text": [
            "4\n",
            "45\n",
            "445\n"
          ]
        }
      ]
    },
    {
      "cell_type": "code",
      "metadata": {
        "id": "zMzBIOy3oR_W"
      },
      "source": [
        "x = \"hello\""
      ],
      "execution_count": 59,
      "outputs": []
    },
    {
      "cell_type": "code",
      "metadata": {
        "colab": {
          "base_uri": "https://localhost:8080/"
        },
        "id": "dsnNdiGFo4Mt",
        "outputId": "5d658350-57f0-4e31-de13-1ac299a91ae8"
      },
      "source": [
        "type(x)"
      ],
      "execution_count": 60,
      "outputs": [
        {
          "output_type": "execute_result",
          "data": {
            "text/plain": [
              "str"
            ]
          },
          "metadata": {},
          "execution_count": 60
        }
      ]
    },
    {
      "cell_type": "markdown",
      "metadata": {
        "id": "qWjY63y2pMu2"
      },
      "source": [
        "# **Control flow Statement**\n",
        "Loops\n",
        "1. For\n",
        "2. While"
      ]
    },
    {
      "cell_type": "code",
      "metadata": {
        "colab": {
          "base_uri": "https://localhost:8080/"
        },
        "id": "_ECVVnCwo5qC",
        "outputId": "7b40537e-3bb2-46be-8ece-5b460b3376ae"
      },
      "source": [
        "# Traditional syntax\n",
        "# for(init; condition; inc/dec) {\n",
        "#     Logic\n",
        "# }\n",
        "\n",
        "for i in range(5):\n",
        "  print(i)\n",
        "  print(\"Inside Loop\")\n",
        "print(\"Now Exit from loop...\")"
      ],
      "execution_count": 67,
      "outputs": [
        {
          "output_type": "stream",
          "name": "stdout",
          "text": [
            "0\n",
            "Inside Loop\n",
            "1\n",
            "Inside Loop\n",
            "2\n",
            "Inside Loop\n",
            "3\n",
            "Inside Loop\n",
            "4\n",
            "Inside Loop\n",
            "Now Exit from loop...\n"
          ]
        }
      ]
    },
    {
      "cell_type": "code",
      "metadata": {
        "colab": {
          "base_uri": "https://localhost:8080/"
        },
        "id": "ufq3-u7FpIU7",
        "outputId": "dbd037e5-6478-4b47-a6ba-ee836baa9ef0"
      },
      "source": [
        "for i in range(1,11):\n",
        "  print(i, end=\",\")"
      ],
      "execution_count": 69,
      "outputs": [
        {
          "output_type": "stream",
          "name": "stdout",
          "text": [
            "1,2,3,4,5,6,7,8,9,10,"
          ]
        }
      ]
    },
    {
      "cell_type": "code",
      "metadata": {
        "colab": {
          "base_uri": "https://localhost:8080/"
        },
        "id": "aYs78p8xqzx7",
        "outputId": "9f4aeff7-e9e2-43f5-bd60-b3f27fd9a7ae"
      },
      "source": [
        "# start = 2\n",
        "# stop  = 21 - 1 = 20\n",
        "# step  = 2\n",
        "for i in range(2,21,2):print(i)"
      ],
      "execution_count": 71,
      "outputs": [
        {
          "output_type": "stream",
          "name": "stdout",
          "text": [
            "2\n",
            "4\n",
            "6\n",
            "8\n",
            "10\n",
            "12\n",
            "14\n",
            "16\n",
            "18\n",
            "20\n"
          ]
        }
      ]
    },
    {
      "cell_type": "code",
      "metadata": {
        "colab": {
          "base_uri": "https://localhost:8080/"
        },
        "id": "GImpQC6LrVbF",
        "outputId": "d1320582-19d1-4347-8b3d-9afce8f5616d"
      },
      "source": [
        "for i in range(5):\n",
        "  for j in range(5):\n",
        "    print(i,j) # inside j loop\n",
        "  print(\"*\" * 10) # inside i loop"
      ],
      "execution_count": 72,
      "outputs": [
        {
          "output_type": "stream",
          "name": "stdout",
          "text": [
            "0 0\n",
            "0 1\n",
            "0 2\n",
            "0 3\n",
            "0 4\n",
            "**********\n",
            "1 0\n",
            "1 1\n",
            "1 2\n",
            "1 3\n",
            "1 4\n",
            "**********\n",
            "2 0\n",
            "2 1\n",
            "2 2\n",
            "2 3\n",
            "2 4\n",
            "**********\n",
            "3 0\n",
            "3 1\n",
            "3 2\n",
            "3 3\n",
            "3 4\n",
            "**********\n",
            "4 0\n",
            "4 1\n",
            "4 2\n",
            "4 3\n",
            "4 4\n",
            "**********\n"
          ]
        }
      ]
    },
    {
      "cell_type": "code",
      "metadata": {
        "colab": {
          "base_uri": "https://localhost:8080/"
        },
        "id": "2Qbx9hrjr018",
        "outputId": "bf379f8b-6622-4749-a7ab-3193b4d806c5"
      },
      "source": [
        "for i in range(10,1,-1):\n",
        "  print(i)"
      ],
      "execution_count": 74,
      "outputs": [
        {
          "output_type": "stream",
          "name": "stdout",
          "text": [
            "10\n",
            "9\n",
            "8\n",
            "7\n",
            "6\n",
            "5\n",
            "4\n",
            "3\n",
            "2\n"
          ]
        }
      ]
    },
    {
      "cell_type": "code",
      "metadata": {
        "colab": {
          "base_uri": "https://localhost:8080/"
        },
        "id": "4E1eozk2sTbn",
        "outputId": "743c3940-1187-4dd4-b7ea-26530bc98942"
      },
      "source": [
        "'''\n",
        "*\n",
        "**\n",
        "***\n",
        "****\n",
        "*****\n",
        "'''\n",
        "\n",
        "for i in range(1,6):\n",
        "  print('*' * i)\n"
      ],
      "execution_count": 76,
      "outputs": [
        {
          "output_type": "stream",
          "name": "stdout",
          "text": [
            "*\n",
            "**\n",
            "***\n",
            "****\n",
            "*****\n"
          ]
        }
      ]
    },
    {
      "cell_type": "code",
      "metadata": {
        "colab": {
          "base_uri": "https://localhost:8080/"
        },
        "id": "Z78T4Z2Osn1Q",
        "outputId": "3f59b531-ceb6-41c0-c59b-d6843bac354b"
      },
      "source": [
        "for i in range(6,0,-1):\n",
        "  print('*' * i)"
      ],
      "execution_count": 77,
      "outputs": [
        {
          "output_type": "stream",
          "name": "stdout",
          "text": [
            "******\n",
            "*****\n",
            "****\n",
            "***\n",
            "**\n",
            "*\n"
          ]
        }
      ]
    },
    {
      "cell_type": "code",
      "metadata": {
        "colab": {
          "base_uri": "https://localhost:8080/"
        },
        "id": "0eGNwCautJMw",
        "outputId": "029dd6ba-3366-4984-f0dc-a4f0057e996e"
      },
      "source": [
        "'''\n",
        "  *\n",
        " ***\n",
        "*****\n",
        "'''\n",
        "for i in range(10):\n",
        "  print(' ' * (10 - i) + '*' * (2*i + 1))"
      ],
      "execution_count": 78,
      "outputs": [
        {
          "output_type": "stream",
          "name": "stdout",
          "text": [
            "          *\n",
            "         ***\n",
            "        *****\n",
            "       *******\n",
            "      *********\n",
            "     ***********\n",
            "    *************\n",
            "   ***************\n",
            "  *****************\n",
            " *******************\n"
          ]
        }
      ]
    },
    {
      "cell_type": "code",
      "metadata": {
        "colab": {
          "base_uri": "https://localhost:8080/"
        },
        "id": "hsf2AAhft6kq",
        "outputId": "04b7e3dd-1929-4068-f17f-1f98cb4f31b4"
      },
      "source": [
        "x = 10\n",
        "while x > 0:\n",
        "  print(x)\n",
        "  x -= 1"
      ],
      "execution_count": 81,
      "outputs": [
        {
          "output_type": "stream",
          "name": "stdout",
          "text": [
            "10\n",
            "9\n",
            "8\n",
            "7\n",
            "6\n",
            "5\n",
            "4\n",
            "3\n",
            "2\n",
            "1\n"
          ]
        }
      ]
    },
    {
      "cell_type": "code",
      "metadata": {
        "colab": {
          "base_uri": "https://localhost:8080/"
        },
        "id": "ZkXjwt2buVrv",
        "outputId": "dc79f6c3-8e84-4e88-a01c-eecbf95cc3db"
      },
      "source": [
        "x = 10\n",
        "while True:\n",
        "  print(x)\n",
        "  x -= 1\n",
        "  if x == 1:\n",
        "    break"
      ],
      "execution_count": 82,
      "outputs": [
        {
          "output_type": "stream",
          "name": "stdout",
          "text": [
            "10\n",
            "9\n",
            "8\n",
            "7\n",
            "6\n",
            "5\n",
            "4\n",
            "3\n",
            "2\n"
          ]
        }
      ]
    },
    {
      "cell_type": "code",
      "metadata": {
        "colab": {
          "base_uri": "https://localhost:8080/"
        },
        "id": "s3w_71-Eum6s",
        "outputId": "9f7b4983-1f29-4478-be7a-690887a3f137"
      },
      "source": [
        "num = 6\n",
        "if num % 2 == 0:\n",
        "  print(\"Number is even\")\n",
        "else:\n",
        "  print(\"Number is odd\")"
      ],
      "execution_count": 83,
      "outputs": [
        {
          "output_type": "stream",
          "name": "stdout",
          "text": [
            "Number is even\n"
          ]
        }
      ]
    },
    {
      "cell_type": "code",
      "metadata": {
        "colab": {
          "base_uri": "https://localhost:8080/"
        },
        "id": "jZzjuyFAuz5E",
        "outputId": "a848d9ad-33b5-433d-934a-f3c58ebe0b6d"
      },
      "source": [
        "if num % 2 == 0:print(\"Number is even\")\n",
        "else:print(\"Number is odd\")"
      ],
      "execution_count": 84,
      "outputs": [
        {
          "output_type": "stream",
          "name": "stdout",
          "text": [
            "Number is even\n"
          ]
        }
      ]
    },
    {
      "cell_type": "code",
      "metadata": {
        "colab": {
          "base_uri": "https://localhost:8080/",
          "height": 35
        },
        "id": "QHMjW1gvu2ny",
        "outputId": "b4318482-ce1f-4ec3-e4db-89d3bbe4f01e"
      },
      "source": [
        "\"Even\" if num % 2 == 0 else \"Odd\""
      ],
      "execution_count": 85,
      "outputs": [
        {
          "output_type": "execute_result",
          "data": {
            "application/vnd.google.colaboratory.intrinsic+json": {
              "type": "string"
            },
            "text/plain": [
              "'Even'"
            ]
          },
          "metadata": {},
          "execution_count": 85
        }
      ]
    },
    {
      "cell_type": "code",
      "metadata": {
        "colab": {
          "base_uri": "https://localhost:8080/"
        },
        "id": "5KB7cHOWu-w0",
        "outputId": "83dcd3f2-b70c-4932-a266-1f9b3d46edf5"
      },
      "source": [
        "print(\"Even\") if num % 2 == 0 else print(\"Odd\")"
      ],
      "execution_count": 86,
      "outputs": [
        {
          "output_type": "stream",
          "name": "stdout",
          "text": [
            "Even\n"
          ]
        }
      ]
    },
    {
      "cell_type": "code",
      "metadata": {
        "colab": {
          "base_uri": "https://localhost:8080/"
        },
        "id": "kn_1zP8VvDeH",
        "outputId": "9ae464c5-b98f-4c71-c549-490a34b8ff42"
      },
      "source": [
        "x,y,z = 10,20,30\n",
        "\n",
        "if x > y and x > z:\n",
        "  print(\"X is greatest\")\n",
        "elif y > z and y > x:\n",
        "  print(\"Y is greatest\")\n",
        "else:\n",
        "  print(\"Z is greatest\")"
      ],
      "execution_count": 87,
      "outputs": [
        {
          "output_type": "stream",
          "name": "stdout",
          "text": [
            "Z is greatest\n"
          ]
        }
      ]
    },
    {
      "cell_type": "code",
      "metadata": {
        "colab": {
          "base_uri": "https://localhost:8080/",
          "height": 35
        },
        "id": "zR-OBkwevaNG",
        "outputId": "2034d9a8-6a5d-477f-d227-e88f474bc6cb"
      },
      "source": [
        "\"X\" if x > y and x > z else \"Y\" if y > x and y > z else \"Z\""
      ],
      "execution_count": 88,
      "outputs": [
        {
          "output_type": "execute_result",
          "data": {
            "application/vnd.google.colaboratory.intrinsic+json": {
              "type": "string"
            },
            "text/plain": [
              "'Z'"
            ]
          },
          "metadata": {},
          "execution_count": 88
        }
      ]
    },
    {
      "cell_type": "code",
      "metadata": {
        "colab": {
          "base_uri": "https://localhost:8080/"
        },
        "id": "YrvfaCGhvhX6",
        "outputId": "85adeb03-e715-4f0f-b551-39b7b9272955"
      },
      "source": [
        "# Mini game - guess the number\n",
        "\n",
        "import random\n",
        "\n",
        "cpu = random.randint(1,100)\n",
        "counter = 5\n",
        "while True:\n",
        "  guess = int(input(\"Guess the Number : \"))\n",
        "\n",
        "  if cpu == guess:\n",
        "    print(\"Congrats, You guessed the correct number...\")\n",
        "    break\n",
        "  elif guess > cpu:\n",
        "    print(\"You guess is a greater number...\")\n",
        "  elif guess < cpu:\n",
        "    print(\"You guess is a smaller number...\")\n",
        "  \n",
        "  counter -= 1\n",
        "  print(\"Chances Left ::\",counter)\n",
        "\n",
        "  if counter == 0:\n",
        "    print(\"You lose the game...Number was\",cpu)\n",
        "    break"
      ],
      "execution_count": 92,
      "outputs": [
        {
          "output_type": "stream",
          "name": "stdout",
          "text": [
            "Guess the Number : 50\n",
            "You guess is a greater number...\n",
            "Chances Left :: 4\n",
            "Guess the Number : 25\n",
            "You guess is a smaller number...\n",
            "Chances Left :: 3\n",
            "Guess the Number : 35\n",
            "You guess is a smaller number...\n",
            "Chances Left :: 2\n",
            "Guess the Number : 40\n",
            "You guess is a smaller number...\n",
            "Chances Left :: 1\n",
            "Guess the Number : 46\n",
            "You guess is a smaller number...\n",
            "Chances Left :: 0\n",
            "You lose the game...Number was 47\n"
          ]
        }
      ]
    },
    {
      "cell_type": "code",
      "metadata": {
        "id": "4USCNyhTwTGd"
      },
      "source": [
        ""
      ],
      "execution_count": null,
      "outputs": []
    }
  ]
}