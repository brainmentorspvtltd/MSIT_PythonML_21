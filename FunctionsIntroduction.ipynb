{
  "nbformat": 4,
  "nbformat_minor": 0,
  "metadata": {
    "colab": {
      "name": "FunctionsIntroduction.ipynb",
      "provenance": [],
      "collapsed_sections": []
    },
    "kernelspec": {
      "name": "python3",
      "display_name": "Python 3"
    },
    "language_info": {
      "name": "python"
    }
  },
  "cells": [
    {
      "cell_type": "code",
      "metadata": {
        "id": "wVJIgEUk7xm0"
      },
      "source": [
        "def add():\n",
        "  x = 6\n",
        "  y = 5\n",
        "  z = x + y\n",
        "  print(\"Sum is\",z)"
      ],
      "execution_count": 1,
      "outputs": []
    },
    {
      "cell_type": "code",
      "metadata": {
        "colab": {
          "base_uri": "https://localhost:8080/"
        },
        "id": "Z5Zyc54n8igo",
        "outputId": "e40f136a-0c06-45a5-c5ef-d948096fbef4"
      },
      "source": [
        "add()"
      ],
      "execution_count": 2,
      "outputs": [
        {
          "output_type": "stream",
          "name": "stdout",
          "text": [
            "Sum is 11\n"
          ]
        }
      ]
    },
    {
      "cell_type": "code",
      "metadata": {
        "id": "1ZxXLU0G8lQT"
      },
      "source": [
        "def add():\n",
        "  global x, y\n",
        "  x = 6\n",
        "  y = 5\n",
        "  z = x + y\n",
        "  print(\"Sum is\",z)"
      ],
      "execution_count": 3,
      "outputs": []
    },
    {
      "cell_type": "code",
      "metadata": {
        "colab": {
          "base_uri": "https://localhost:8080/"
        },
        "id": "-LPtK5Ev8u60",
        "outputId": "5e95d9a7-5a09-4ede-a20f-35ec80daf2c7"
      },
      "source": [
        "add()"
      ],
      "execution_count": 5,
      "outputs": [
        {
          "output_type": "stream",
          "name": "stdout",
          "text": [
            "Sum is 11\n"
          ]
        }
      ]
    },
    {
      "cell_type": "code",
      "metadata": {
        "colab": {
          "base_uri": "https://localhost:8080/"
        },
        "id": "qvzuOEUz8vwl",
        "outputId": "df62e4bf-a801-4c8b-e1d9-4bb910ff4a70"
      },
      "source": [
        "x, y"
      ],
      "execution_count": 6,
      "outputs": [
        {
          "output_type": "execute_result",
          "data": {
            "text/plain": [
              "(6, 5)"
            ]
          },
          "metadata": {},
          "execution_count": 6
        }
      ]
    },
    {
      "cell_type": "code",
      "metadata": {
        "id": "juCYaEt-8ztq"
      },
      "source": [
        "# age = 20\n",
        "\n",
        "# def changeAge():\n",
        "#   age = age + 10\n",
        "#   print(\"Now age is :\",age)"
      ],
      "execution_count": 9,
      "outputs": []
    },
    {
      "cell_type": "code",
      "metadata": {
        "id": "F2TG1oko9Tb_"
      },
      "source": [
        "def calc(x,y):\n",
        "  z = x + y\n",
        "  print(\"Sum is\",z)"
      ],
      "execution_count": 10,
      "outputs": []
    },
    {
      "cell_type": "code",
      "metadata": {
        "colab": {
          "base_uri": "https://localhost:8080/"
        },
        "id": "atYRbpxd9afS",
        "outputId": "609081a9-6e9a-44bb-dd05-1045b98d3143"
      },
      "source": [
        "# Positional Arguments\n",
        "calc(4,5)"
      ],
      "execution_count": 12,
      "outputs": [
        {
          "output_type": "stream",
          "name": "stdout",
          "text": [
            "Sum is 9\n"
          ]
        }
      ]
    },
    {
      "cell_type": "code",
      "metadata": {
        "colab": {
          "base_uri": "https://localhost:8080/"
        },
        "id": "In0NBPX3_vKy",
        "outputId": "44e9953f-e3ef-484b-e115-08d7536a047f"
      },
      "source": [
        "# Keyword Arguments\n",
        "calc(x = 6, y = 9)\n",
        "calc(y = 6, x = 9)"
      ],
      "execution_count": 13,
      "outputs": [
        {
          "output_type": "stream",
          "name": "stdout",
          "text": [
            "Sum is 15\n",
            "Sum is 15\n"
          ]
        }
      ]
    },
    {
      "cell_type": "code",
      "metadata": {
        "id": "nmFHyx5f_3sy"
      },
      "source": [
        "def calc(x=0,y=0):\n",
        "  z = x + y\n",
        "  print(\"Sum is\",z)"
      ],
      "execution_count": 14,
      "outputs": []
    },
    {
      "cell_type": "code",
      "metadata": {
        "colab": {
          "base_uri": "https://localhost:8080/"
        },
        "id": "QkKc5z_2__vc",
        "outputId": "befb0cf2-c312-43e0-b465-3862099b46a6"
      },
      "source": [
        "calc()"
      ],
      "execution_count": 15,
      "outputs": [
        {
          "output_type": "stream",
          "name": "stdout",
          "text": [
            "Sum is 0\n"
          ]
        }
      ]
    },
    {
      "cell_type": "code",
      "metadata": {
        "colab": {
          "base_uri": "https://localhost:8080/"
        },
        "id": "HoCVvTuEAAXU",
        "outputId": "bc262260-35ba-4bda-8133-1d2ade403628"
      },
      "source": [
        "calc(5)"
      ],
      "execution_count": 16,
      "outputs": [
        {
          "output_type": "stream",
          "name": "stdout",
          "text": [
            "Sum is 5\n"
          ]
        }
      ]
    },
    {
      "cell_type": "code",
      "metadata": {
        "colab": {
          "base_uri": "https://localhost:8080/"
        },
        "id": "lpf0QUrVACjf",
        "outputId": "4f9e8442-f0a8-4008-c9a2-965bcce869a6"
      },
      "source": [
        "calc(5,6)"
      ],
      "execution_count": 17,
      "outputs": [
        {
          "output_type": "stream",
          "name": "stdout",
          "text": [
            "Sum is 11\n"
          ]
        }
      ]
    },
    {
      "cell_type": "code",
      "metadata": {
        "id": "Nbm88C85ADgP"
      },
      "source": [
        "# *args - variable length argument\n",
        "def add(*x):\n",
        "  sum = 0\n",
        "  for i in range(len(x)):\n",
        "    sum += x[i]\n",
        "  print(\"Sum is :\",sum)"
      ],
      "execution_count": 21,
      "outputs": []
    },
    {
      "cell_type": "code",
      "metadata": {
        "colab": {
          "base_uri": "https://localhost:8080/"
        },
        "id": "eGUMEfAbAcM8",
        "outputId": "98854c4d-a240-4388-b4d5-0cef2c01a17d"
      },
      "source": [
        "add(5,6)\n",
        "add(4,5,7,3)\n",
        "add()\n",
        "add(4,3,4,5,7,9,5,5)"
      ],
      "execution_count": 22,
      "outputs": [
        {
          "output_type": "stream",
          "name": "stdout",
          "text": [
            "Sum is : 11\n",
            "Sum is : 19\n",
            "Sum is : 0\n",
            "Sum is : 42\n"
          ]
        }
      ]
    },
    {
      "cell_type": "code",
      "metadata": {
        "id": "BRkw-e0dArNz"
      },
      "source": [
        "# **kwargs - keyword variable length argument\n",
        "def person(**details):\n",
        "  print(details)"
      ],
      "execution_count": 23,
      "outputs": []
    },
    {
      "cell_type": "code",
      "metadata": {
        "colab": {
          "base_uri": "https://localhost:8080/"
        },
        "id": "DVVZoUq-A6xG",
        "outputId": "abd12ddd-9e10-4400-c65d-2f3f52a9ed05"
      },
      "source": [
        "person(name = \"Ram\", age = 50, sal = 56000)\n",
        "person(name = \"Shyam\")"
      ],
      "execution_count": 24,
      "outputs": [
        {
          "output_type": "stream",
          "name": "stdout",
          "text": [
            "{'name': 'Ram', 'age': 50, 'sal': 56000}\n",
            "{'name': 'Shyam'}\n"
          ]
        }
      ]
    },
    {
      "cell_type": "code",
      "metadata": {
        "id": "cjhkTO0NBCtT"
      },
      "source": [
        "def temp_convert(c):\n",
        "  return 9/5 * c + 32\n",
        "\n",
        "def km_to_m(km):\n",
        "  return km * 1000"
      ],
      "execution_count": 25,
      "outputs": []
    },
    {
      "cell_type": "code",
      "metadata": {
        "colab": {
          "base_uri": "https://localhost:8080/"
        },
        "id": "yPxsf37FCs8D",
        "outputId": "f3d21868-a53a-4c0d-a41f-effef1db18b8"
      },
      "source": [
        "temps = [23.45,25.6,30.4,28.7,28.6]\n",
        "for t in temps:\n",
        "  print(temp_convert(t))"
      ],
      "execution_count": 26,
      "outputs": [
        {
          "output_type": "stream",
          "name": "stdout",
          "text": [
            "74.21000000000001\n",
            "78.08000000000001\n",
            "86.72\n",
            "83.66\n",
            "83.48\n"
          ]
        }
      ]
    },
    {
      "cell_type": "code",
      "metadata": {
        "colab": {
          "base_uri": "https://localhost:8080/"
        },
        "id": "iaTWGUWVC940",
        "outputId": "ac7c818b-9d7a-42dd-e731-247e762a0928"
      },
      "source": [
        "kms = [3.4,45,90,23.53,41]\n",
        "for k in kms:\n",
        "  print(km_to_m(k))"
      ],
      "execution_count": 27,
      "outputs": [
        {
          "output_type": "stream",
          "name": "stdout",
          "text": [
            "3400.0\n",
            "45000\n",
            "90000\n",
            "23530.0\n",
            "41000\n"
          ]
        }
      ]
    },
    {
      "cell_type": "code",
      "metadata": {
        "id": "hxACWHUDDIy8"
      },
      "source": [
        "def myMap(func,iter):\n",
        "  data = []\n",
        "  for i in range(len(iter)):\n",
        "    data.append(func(iter[i]))\n",
        "  return data"
      ],
      "execution_count": 28,
      "outputs": []
    },
    {
      "cell_type": "code",
      "metadata": {
        "colab": {
          "base_uri": "https://localhost:8080/"
        },
        "id": "gVBxp67gD2Mt",
        "outputId": "f9aa18d8-e8e9-4e3d-d61d-991d5871d7cd"
      },
      "source": [
        "myMap(km_to_m, kms)"
      ],
      "execution_count": 29,
      "outputs": [
        {
          "output_type": "execute_result",
          "data": {
            "text/plain": [
              "[3400.0, 45000, 90000, 23530.0, 41000]"
            ]
          },
          "metadata": {},
          "execution_count": 29
        }
      ]
    },
    {
      "cell_type": "code",
      "metadata": {
        "colab": {
          "base_uri": "https://localhost:8080/"
        },
        "id": "y-yVE1eJD-Ko",
        "outputId": "2cd063f9-2cf6-4517-c946-bd87466beb76"
      },
      "source": [
        "myMap(temp_convert, temps)"
      ],
      "execution_count": 31,
      "outputs": [
        {
          "output_type": "execute_result",
          "data": {
            "text/plain": [
              "[74.21000000000001, 78.08000000000001, 86.72, 83.66, 83.48]"
            ]
          },
          "metadata": {},
          "execution_count": 31
        }
      ]
    },
    {
      "cell_type": "code",
      "metadata": {
        "colab": {
          "base_uri": "https://localhost:8080/"
        },
        "id": "2G33SmLfEM3Q",
        "outputId": "4a954061-0a81-4c0f-a239-4cc09fcbda2d"
      },
      "source": [
        "list(map(km_to_m, kms))"
      ],
      "execution_count": 33,
      "outputs": [
        {
          "output_type": "execute_result",
          "data": {
            "text/plain": [
              "[3400.0, 45000, 90000, 23530.0, 41000]"
            ]
          },
          "metadata": {},
          "execution_count": 33
        }
      ]
    },
    {
      "cell_type": "code",
      "metadata": {
        "colab": {
          "base_uri": "https://localhost:8080/"
        },
        "id": "9OswbvWsEdGL",
        "outputId": "5784d6b7-63d6-4467-c3b4-589fcc98f519"
      },
      "source": [
        "list(map(temp_convert, temps))"
      ],
      "execution_count": 34,
      "outputs": [
        {
          "output_type": "execute_result",
          "data": {
            "text/plain": [
              "[74.21000000000001, 78.08000000000001, 86.72, 83.66, 83.48]"
            ]
          },
          "metadata": {},
          "execution_count": 34
        }
      ]
    },
    {
      "cell_type": "code",
      "metadata": {
        "colab": {
          "base_uri": "https://localhost:8080/"
        },
        "id": "03-lQyD8ElOd",
        "outputId": "10623f31-6561-4943-deea-e72327687384"
      },
      "source": [
        "(lambda x,y : x + y)(4,5)"
      ],
      "execution_count": 36,
      "outputs": [
        {
          "output_type": "execute_result",
          "data": {
            "text/plain": [
              "9"
            ]
          },
          "metadata": {},
          "execution_count": 36
        }
      ]
    },
    {
      "cell_type": "code",
      "metadata": {
        "colab": {
          "base_uri": "https://localhost:8080/"
        },
        "id": "fh9tN275E301",
        "outputId": "ab41402c-6348-428e-c4f0-cd62c77e9ffa"
      },
      "source": [
        "list(map(lambda km : km * 1000, kms))"
      ],
      "execution_count": 37,
      "outputs": [
        {
          "output_type": "execute_result",
          "data": {
            "text/plain": [
              "[3400.0, 45000, 90000, 23530.0, 41000]"
            ]
          },
          "metadata": {},
          "execution_count": 37
        }
      ]
    },
    {
      "cell_type": "code",
      "metadata": {
        "id": "2Q7cnDznE9-6"
      },
      "source": [
        "add = lambda x,y : x + y"
      ],
      "execution_count": 38,
      "outputs": []
    },
    {
      "cell_type": "code",
      "metadata": {
        "colab": {
          "base_uri": "https://localhost:8080/"
        },
        "id": "KpGf0tMgFcqM",
        "outputId": "53dd69a1-f85b-4aaf-88dc-5813d7ed5f48"
      },
      "source": [
        "add(4,5)"
      ],
      "execution_count": 40,
      "outputs": [
        {
          "output_type": "execute_result",
          "data": {
            "text/plain": [
              "9"
            ]
          },
          "metadata": {},
          "execution_count": 40
        }
      ]
    },
    {
      "cell_type": "code",
      "metadata": {
        "id": "CH5hcRfZFh1_"
      },
      "source": [
        ""
      ],
      "execution_count": null,
      "outputs": []
    }
  ]
}